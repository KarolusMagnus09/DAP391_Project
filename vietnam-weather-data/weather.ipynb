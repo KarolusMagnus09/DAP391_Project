{
  "cells": [
    {
      "cell_type": "markdown",
      "metadata": {
        "id": "I4BrtZE3nY7I"
      },
      "source": [
        "# **Import Library**"
      ]
    },
    {
      "cell_type": "code",
      "execution_count": 24,
      "metadata": {
        "id": "0z6pQijLK_5a"
      },
      "outputs": [],
      "source": [
        "import pandas as pd\n",
        "import numpy as np\n",
        "import math\n",
        "import time\n",
        "import matplotlib.pyplot as plt\n",
        "import seaborn as sns\n",
        "import joblib, os\n",
        "import shutil\n",
        "\n",
        "from sklearn.preprocessing import LabelEncoder, OneHotEncoder, OrdinalEncoder\n",
        "from sklearn.model_selection import train_test_split, GridSearchCV, RandomizedSearchCV\n",
        "from sklearn.linear_model import LinearRegression\n",
        "from sklearn.ensemble import RandomForestRegressor, GradientBoostingRegressor\n",
        "from sklearn.neighbors import KNeighborsRegressor\n",
        "from xgboost import XGBRegressor\n",
        "from sklearn.ensemble import RandomForestClassifier\n",
        "from xgboost import XGBClassifier\n",
        "from sklearn.metrics import mean_squared_error, r2_score, mean_absolute_error\n",
        "from sklearn.metrics import accuracy_score, classification_report, confusion_matrix, ConfusionMatrixDisplay\n",
        "\n",
        "from scipy.stats.mstats import winsorize\n",
        "from scipy.stats import chi2_contingency\n",
        "import statsmodels.api as sm\n",
        "from statsmodels.api import OLS\n",
        "from statsmodels.formula.api import ols\n",
        "from statsmodels.stats.anova import anova_lm\n",
        "\n"
      ]
    },
    {
      "cell_type": "markdown",
      "metadata": {
        "id": "VE2T8UXK_ATE"
      },
      "source": [
        "# **Functions**"
      ]
    },
    {
      "cell_type": "code",
      "execution_count": 25,
      "metadata": {
        "id": "xVOIZWli_JJc"
      },
      "outputs": [],
      "source": [
        "def convert_region(df, variableName: str):\n",
        "    vietnam_regions = {\n",
        "        \"Dong Bang Song Hong\": [\n",
        "            \"Ha Noi\", \"Hai Duong\", \"Nam Dinh\", \"Hai Phong\"\n",
        "        ],\n",
        "        \"Trung du va Mien Nui Phia Bac\": [\n",
        "            \"Thai Nguyen\", \"Hoa Binh\", \"Viet Tri\", \"Yen Bai\",\n",
        "            \"Hong Gai\", \"Cam Pha\", \"Uong Bi\"\n",
        "        ],\n",
        "        \"Bac Trung Bo va Duyen Hai Mien Trung\": [\n",
        "            \"Thanh Hoa\", \"Vinh\", \"Hue\", \"Tam Ky\", \"Nha Trang\",\n",
        "            \"Qui Nhon\", \"Tuy Hoa\", \"Phan Rang\", \"Cam Ranh\"\n",
        "        ],\n",
        "        \"Tay Nguyen\": [\n",
        "            \"Buon Me Thuot\", \"Da Lat\", \"Play Cu\"\n",
        "        ],\n",
        "        \"Dong Nam Bo\": [\n",
        "            \"Ho Chi Minh City\", \"Bien Hoa\", \"Vung Tau\", \"Phan Thiet\"\n",
        "        ],\n",
        "        \"Dong Bang Song Cuu Long\": [\n",
        "            \"Can Tho\", \"Ben Tre\", \"Vinh Long\", \"Tan An\",\n",
        "            \"My Tho\", \"Long Xuyen\", \"Chau Doc\", \"Tra Vinh\",\n",
        "            \"Bac Lieu\", \"Ca Mau\", \"Soc Trang\", \"Rach Gia\"\n",
        "        ]\n",
        "    }\n",
        "\n",
        "    province_to_region = {city: region for region, cities in vietnam_regions.items() for city in cities}\n",
        "    df[variableName] = df[variableName].map(province_to_region)\n",
        "    return df"
      ]
    },
    {
      "cell_type": "code",
      "execution_count": 26,
      "metadata": {
        "id": "3hzei_tyEqIF"
      },
      "outputs": [],
      "source": [
        "def split_date(df, variableName: str):\n",
        "  df[variableName] = pd.to_datetime(df[variableName])\n",
        "  df['day'] = df[variableName].dt.day\n",
        "  df['month'] = df[variableName].dt.month\n",
        "  df['year'] = df[variableName].dt.year\n",
        "  df.drop(columns=[variableName], inplace=True)\n",
        "  return df"
      ]
    },
    {
      "cell_type": "code",
      "execution_count": 27,
      "metadata": {
        "id": "SDPuWFaNahAd"
      },
      "outputs": [],
      "source": [
        "def boxplots(df):\n",
        "  numerical_columns = df.select_dtypes(include=[\"float64\", \"int64\"]).columns\n",
        "  plt.figure(figsize=(16, 5))\n",
        "\n",
        "  for i, column in enumerate(numerical_columns, 1):\n",
        "      plt.subplot(1, len(numerical_columns), i)\n",
        "      sns.boxplot(data=df, y=column)\n",
        "      plt.title(f\"Boxplot of {column}\")\n",
        "      plt.ylabel(column)\n",
        "\n",
        "  plt.tight_layout()\n",
        "  plt.show()"
      ]
    },
    {
      "cell_type": "code",
      "execution_count": 28,
      "metadata": {
        "id": "r1vEHnzihIsu"
      },
      "outputs": [],
      "source": [
        "def findSignificant(df):\n",
        "  Q1 = df.quantile(0.25)\n",
        "  Q3 = df.quantile(0.75)\n",
        "  IQR = Q3 - Q1\n",
        "\n",
        "  lower_bound = Q1 - 1.5 * IQR\n",
        "  upper_bound = Q3 + 1.5 * IQR\n",
        "  return lower_bound, upper_bound\n",
        "\n",
        "def Clipping(df):\n",
        "  lower_bound, upper_bound = findSignificant(df)\n",
        "  df = df.clip(lower=lower_bound, upper=upper_bound)\n",
        "  return df"
      ]
    },
    {
      "cell_type": "code",
      "execution_count": 29,
      "metadata": {
        "id": "DJT6I2vdbEIH"
      },
      "outputs": [],
      "source": [
        "def oLs(df, x_var: str, y_var: str):\n",
        "  model = OLS(df[x_var], sm.add_constant(df[y_var])).fit()\n",
        "  return model\n",
        "\n",
        "def ols_metrics(df, x_var: str, y_var: str):\n",
        "  model = oLs(df, x_var, y_var)\n",
        "\n",
        "  adj_r_squared = model.rsquared_adj\n",
        "  f_statistic = model.fvalue\n",
        "  Prob_F = model.f_pvalue\n",
        "  return (adj_r_squared, f_statistic, Prob_F)"
      ]
    },
    {
      "cell_type": "code",
      "execution_count": 30,
      "metadata": {
        "id": "I4mBv7EmgT9r"
      },
      "outputs": [],
      "source": [
        "def anova(df, dl_var: str, dt_var: str):\n",
        "  model = ols(f'{dl_var} ~ {dt_var}', data= df).fit()\n",
        "  return model\n",
        "\n",
        "def anova_metrics(df, dl_var: str, dt_var: str):\n",
        "  model = anova(df, dl_var, dt_var)\n",
        "  anova_table = anova_lm(model)\n",
        "\n",
        "  F_value = anova_table.loc[dt_var, 'F']\n",
        "  Prob_F = anova_table.loc[dt_var, 'PR(>F)']\n",
        "  ss_between = anova_table.loc[dt_var, 'sum_sq']\n",
        "  ss_total = anova_table['sum_sq'].sum()\n",
        "\n",
        "  eta_squared = ss_between / ss_total\n",
        "  return (eta_squared, F_value, Prob_F)"
      ]
    },
    {
      "cell_type": "markdown",
      "metadata": {
        "id": "InHPnLUb9hgd"
      },
      "source": [
        "# **Setup Data**"
      ]
    },
    {
      "cell_type": "code",
      "execution_count": 31,
      "metadata": {
        "colab": {
          "base_uri": "https://localhost:8080/"
        },
        "id": "3ljb_6wNMyd1",
        "outputId": "20d93f69-3c8f-4cfd-854c-21ed7b3f2a2a"
      },
      "outputs": [
        {
          "name": "stdout",
          "output_type": "stream",
          "text": [
            "Path to dataset files: C:\\Users\\HNS\\.cache\\kagglehub\\datasets\\vanviethieuanh\\vietnam-weather-data\\versions\\1\n"
          ]
        }
      ],
      "source": [
        "import kagglehub\n",
        "\n",
        "path = kagglehub.dataset_download(\"vanviethieuanh/vietnam-weather-data\")\n",
        "print(\"Path to dataset files:\", path)"
      ]
    },
    {
      "cell_type": "code",
      "execution_count": 32,
      "metadata": {},
      "outputs": [
        {
          "name": "stdout",
          "output_type": "stream",
          "text": [
            "   province  max_temp  min_temp  wind_speed wind_direct  rain  humidi  cloud  \\\n",
            "0  Bac Lieu        27        22          17         NNE   6.9      90     71   \n",
            "1  Bac Lieu        31        25          20         ENE   0.0      64     24   \n",
            "2  Bac Lieu        29        24          14           E   0.0      75     45   \n",
            "3  Bac Lieu        30        24          30           E   0.0      79     52   \n",
            "4  Bac Lieu        31        25          20         ENE   0.0      70     24   \n",
            "\n",
            "   pressure        date  \n",
            "0      1010  2009-01-01  \n",
            "1      1010  2010-01-01  \n",
            "2      1008  2011-01-01  \n",
            "3      1012  2012-01-01  \n",
            "4      1010  2013-01-01  \n"
          ]
        }
      ],
      "source": [
        "dest_path = \"./vietnam-weather-data\"\n",
        "if not os.path.exists(dest_path):\n",
        "    shutil.copytree(path, dest_path)\n",
        "\n",
        "csv_path = os.path.join(dest_path, 'weather.csv')\n",
        "reworked_df = pd.read_csv(csv_path)\n",
        "\n",
        "reworked_df = reworked_df[reworked_df[\"province\"] != \"Hanoi\"]\n",
        "reworked_df = reworked_df.rename(columns={\n",
        "    'max': 'max_temp',\n",
        "    'min': 'min_temp',\n",
        "    'wind': 'wind_speed',\n",
        "    'wind_d': 'wind_direct'\n",
        "})\n",
        "\n",
        "print(reworked_df.head())"
      ]
    },
    {
      "cell_type": "code",
      "execution_count": 33,
      "metadata": {
        "id": "qbLxAsmlFRv0"
      },
      "outputs": [],
      "source": [
        "#Adding new clounms and split date column\n",
        "df_copy = reworked_df.copy()\n",
        "df_copy['range_temp'] = df_copy['max_temp'] - df_copy['min_temp']\n",
        "df_copy['region'] = df_copy['province']\n",
        "df_copy = convert_region(df_copy, 'region')\n",
        "df_copy = split_date(df_copy, 'date')"
      ]
    },
    {
      "cell_type": "code",
      "execution_count": 34,
      "metadata": {},
      "outputs": [],
      "source": [
        "df_copy['date'] = pd.to_datetime(df_copy[['year', 'month', 'day']])\n",
        "\n",
        "# Sort the data so lags make sense (grouped by province, by time)\n",
        "df_copy = df_copy.sort_values(['province', 'date'])\n",
        "\n",
        "# Create lag features per province\n",
        "df_copy['rain_1d_ago'] = df_copy.groupby('province')['rain'].shift(1)\n",
        "df_copy['rain_3d_avg'] = df_copy.groupby('province')['rain'].shift(1).rolling(3).mean().reset_index(0, drop=True)\n",
        "df_copy['rain_7d_sum'] = df_copy.groupby('province')['rain'].shift(1).rolling(7).sum().reset_index(0, drop=True)\n",
        "df_copy[['rain_1d_ago', 'rain_3d_avg', 'rain_7d_sum']] = df_copy[\n",
        "    ['rain_1d_ago', 'rain_3d_avg', 'rain_7d_sum']\n",
        "].fillna(0)"
      ]
    },
    {
      "cell_type": "code",
      "execution_count": 35,
      "metadata": {},
      "outputs": [],
      "source": [
        "# Rain trend: 3-day moving average (shifted to avoid leakage)\n",
        "df_copy['rain_trend_3d'] = df_copy['rain'].rolling(window=3).mean().shift(1).fillna(0)\n",
        "\n",
        "# Rain intensity: today's rain compared to past 7-day average (shifted)\n",
        "df_copy['rain_intensity'] = (df_copy['rain'] / (df_copy['rain'].rolling(7).mean().shift(1) + 1e-5)).fillna(0)"
      ]
    },
    {
      "cell_type": "code",
      "execution_count": 36,
      "metadata": {},
      "outputs": [],
      "source": [
        "df_copy['is_rainy_season'] = df_copy['month'].apply(lambda x: 1 if 5 <= x <= 11 else 0)\n",
        "df_copy['is_dry_season'] = df_copy['month'].apply(lambda x: 1 if x in [12, 1, 2, 3, 4] else 0)"
      ]
    },
    {
      "cell_type": "code",
      "execution_count": 37,
      "metadata": {},
      "outputs": [],
      "source": [
        "# Bảng chuyển hướng gió sang góc\n",
        "direction_to_angle = {\n",
        "    'N': 0, 'NE': 45, 'E': 90, 'SE': 135,\n",
        "    'S': 180, 'SW': 225, 'W': 270, 'NW': 315\n",
        "}\n",
        "\n",
        "# Chuyển thành góc (radian)\n",
        "df_copy['wind_angle'] = df_copy['wind_direct'].map(direction_to_angle).fillna(0)\n",
        "theta = np.radians(df_copy['wind_angle'])\n",
        " \n",
        "# Tạo hai feature mới\n",
        "df_copy['wind_x'] = df_copy['wind_speed'] * np.cos(theta)\n",
        "df_copy['wind_y'] = df_copy['wind_speed'] * np.sin(theta)"
      ]
    },
    {
      "cell_type": "code",
      "execution_count": 38,
      "metadata": {},
      "outputs": [],
      "source": [
        "# Trung bình mưa theo province\n",
        "df_copy['avg_rain_province'] = df_copy.groupby('province')['rain'].transform('mean')\n",
        "\n",
        "# Trung bình mưa theo region\n",
        "df_copy['avg_rain_region'] = df_copy.groupby('region')['rain'].transform('mean')"
      ]
    },
    {
      "cell_type": "code",
      "execution_count": 39,
      "metadata": {},
      "outputs": [],
      "source": [
        "# Feature 1: Tính nhiệt độ ẩm từ range_temp và humidi\n",
        "df_copy['temp_humidity'] = df_copy['range_temp'] * df_copy['humidi']\n",
        "# Feature 2: Tính lại tốc độ gió từ wind_x và wind_y\n",
        "df_copy['wind_speed'] = np.sqrt(df_copy['wind_x']**2 + df_copy['wind_y']**2)"
      ]
    },
    {
      "cell_type": "code",
      "execution_count": 40,
      "metadata": {},
      "outputs": [],
      "source": [
        "# Mây và độ ẩm tương tác\n",
        "df_copy['cloud_humid'] = df_copy['cloud'] * df_copy['humidi']\n",
        "\n",
        "# Mây và dao động nhiệt độ tương tác\n",
        "df_copy['cloud_temp_range'] = df_copy['cloud'] * df_copy['range_temp']\n"
      ]
    },
    {
      "cell_type": "code",
      "execution_count": 41,
      "metadata": {},
      "outputs": [],
      "source": [
        "df_copy['avg_rain_region'] = df_copy.groupby('region')['rain'].transform('mean')\n",
        "df_copy['avg_rain_region'] = df_copy['avg_rain_region'].fillna(0)\n",
        "\n",
        "df_copy['rain_2d_ago'] = df_copy.groupby('province')['rain'].shift(2)\n",
        "df_copy['rain_2d_ago'] = df_copy['rain_2d_ago'].fillna(0)\n"
      ]
    },
    {
      "cell_type": "code",
      "execution_count": 42,
      "metadata": {},
      "outputs": [
        {
          "name": "stdout",
          "output_type": "stream",
          "text": [
            "province             0\n",
            "max_temp             0\n",
            "min_temp             0\n",
            "wind_speed           0\n",
            "wind_direct          0\n",
            "rain                 0\n",
            "humidi               0\n",
            "cloud                0\n",
            "pressure             0\n",
            "range_temp           0\n",
            "day                  0\n",
            "month                0\n",
            "year                 0\n",
            "date                 0\n",
            "rain_1d_ago          0\n",
            "rain_3d_avg          0\n",
            "rain_7d_sum          0\n",
            "rain_trend_3d        0\n",
            "rain_intensity       0\n",
            "is_rainy_season      0\n",
            "is_dry_season        0\n",
            "wind_angle           0\n",
            "wind_x               0\n",
            "wind_y               0\n",
            "avg_rain_province    0\n",
            "avg_rain_region      0\n",
            "temp_humidity        0\n",
            "cloud_humid          0\n",
            "cloud_temp_range     0\n",
            "rain_2d_ago          0\n",
            "Latitude             0\n",
            "Longitude            0\n",
            "region               0\n",
            "dtype: int64\n"
          ]
        }
      ],
      "source": [
        "coord_df = pd.read_csv(\"vietnam-weather-data/Final_Province_Coordinates.csv\")\n",
        "\n",
        "# Gộp dữ liệu theo cột 'province'\n",
        "df_copy = pd.merge(df_copy, coord_df, on='province', how='left')\n",
        "df_copy =df_copy.drop(columns=['region_x'])\n",
        "df_copy = df_copy.rename(columns={'region_y': 'region'})\n",
        "# Kiểm tra xem merge có bị thiếu tỉnh nào không\n",
        "print(df_copy.isnull().sum())\n",
        "\n",
        "# (Tùy chọn) Lưu ra file mới nếu cần\n",
        "df_copy.to_csv(\"final_weather.csv\", index=False)\n"
      ]
    },
    {
      "cell_type": "markdown",
      "metadata": {
        "id": "vPOGb_KRQ7nd"
      },
      "source": [
        "# **df_copy Overview**"
      ]
    },
    {
      "cell_type": "code",
      "execution_count": 43,
      "metadata": {
        "colab": {
          "base_uri": "https://localhost:8080/"
        },
        "id": "kattlAGSmyLG",
        "outputId": "ae229d59-2b90-4af1-8c0e-78a5cd50673f"
      },
      "outputs": [
        {
          "name": "stdout",
          "output_type": "stream",
          "text": [
            "+----+------------+------------+------------+--------------+---------------+--------+----------+---------+------------+--------------+-------+---------+--------+---------------------+---------------+---------------+---------------+-----------------+------------------+-------------------+-----------------+--------------+--------------+----------+---------------------+-------------------+-----------------+---------------+--------------------+---------------+------------+-------------+-------------------------+\n",
            "|    | province   |   max_temp |   min_temp |   wind_speed | wind_direct   |   rain |   humidi |   cloud |   pressure |   range_temp |   day |   month |   year | date                |   rain_1d_ago |   rain_3d_avg |   rain_7d_sum |   rain_trend_3d |   rain_intensity |   is_rainy_season |   is_dry_season |   wind_angle |       wind_x |   wind_y |   avg_rain_province |   avg_rain_region |   temp_humidity |   cloud_humid |   cloud_temp_range |   rain_2d_ago |   Latitude |   Longitude | region                  |\n",
            "|----+------------+------------+------------+--------------+---------------+--------+----------+---------+------------+--------------+-------+---------+--------+---------------------+---------------+---------------+---------------+-----------------+------------------+-------------------+-----------------+--------------+--------------+----------+---------------------+-------------------+-----------------+---------------+--------------------+---------------+------------+-------------+-------------------------|\n",
            "|  0 | Bac Lieu   |         27 |         22 |           17 | NNE           |    6.9 |       90 |      71 |       1010 |            5 |     1 |       1 |   2009 | 2009-01-01 00:00:00 |           0   |     0         |           0   |        0        |         0        |                 0 |               1 |            0 | 17           |  0       |             3.45586 |           4.76866 |             450 |          6390 |                355 |           0   |    9.32983 |      105.51 | Dong Bang Song Cuu Long |\n",
            "|  1 | Bac Lieu   |         28 |         22 |           15 | ENE           |    0.5 |       85 |      61 |       1010 |            6 |     2 |       1 |   2009 | 2009-01-02 00:00:00 |           6.9 |     7.73333   |          45.9 |        0        |         0        |                 0 |               1 |            0 | 15           |  0       |             3.45586 |           4.76866 |             510 |          5185 |                366 |           0   |    9.32983 |      105.51 | Dong Bang Song Cuu Long |\n",
            "|  2 | Bac Lieu   |         23 |         21 |            9 | ESE           |   16.7 |       91 |      77 |       1011 |            2 |     3 |       1 |   2009 | 2009-01-03 00:00:00 |           0.5 |     7.33333   |          30.6 |        0        |         0        |                 0 |               1 |            0 |  9           |  0       |             3.45586 |           4.76866 |             182 |          7007 |                154 |           6.9 |    9.32983 |      105.51 | Dong Bang Song Cuu Long |\n",
            "|  3 | Bac Lieu   |         27 |         21 |            9 | E             |    2.2 |       86 |      32 |       1011 |            6 |     4 |       1 |   2009 | 2009-01-04 00:00:00 |          16.7 |     6.66667   |          37.8 |        8.03333  |         0        |                 0 |               1 |           90 |  5.51091e-16 |  9       |             3.45586 |           4.76866 |             516 |          2752 |                192 |           0.5 |    9.32983 |      105.51 | Dong Bang Song Cuu Long |\n",
            "|  4 | Bac Lieu   |         29 |         22 |           10 | SE            |    0   |       81 |      25 |       1010 |            7 |     5 |       1 |   2009 | 2009-01-05 00:00:00 |           2.2 |     0         |           0.6 |        6.46667  |         0        |                 0 |               1 |          135 | -7.07107     |  7.07107 |             3.45586 |           4.76866 |             567 |          2025 |                175 |          16.7 |    9.32983 |      105.51 | Dong Bang Song Cuu Long |\n",
            "|  5 | Bac Lieu   |         30 |         23 |           10 | E             |    0.3 |       81 |      25 |       1011 |            7 |     6 |       1 |   2009 | 2009-01-06 00:00:00 |           0   |     3.56667   |          22.9 |        6.3      |         0        |                 0 |               1 |           90 |  6.12323e-16 | 10       |             3.45586 |           4.76866 |             567 |          2025 |                175 |           2.2 |    9.32983 |      105.51 | Dong Bang Song Cuu Long |\n",
            "|  6 | Bac Lieu   |         29 |         24 |           12 | ESE           |    1.9 |       83 |      30 |       1012 |            5 |     7 |       1 |   2009 | 2009-01-07 00:00:00 |           0.3 |     4.76667   |          27.8 |        0.833333 |         0        |                 0 |               1 |            0 | 12           |  0       |             3.45586 |           4.76866 |             415 |          2490 |                150 |           0   |    9.32983 |      105.51 | Dong Bang Song Cuu Long |\n",
            "|  7 | Bac Lieu   |         29 |         22 |           10 | NE            |    1.2 |       81 |      40 |       1013 |            7 |     8 |       1 |   2009 | 2009-01-08 00:00:00 |           1.9 |     0.566667  |           2.1 |        0.733333 |         0.294736 |                 0 |               1 |           45 |  7.07107     |  7.07107 |             3.45586 |           4.76866 |             567 |          3240 |                280 |           0.3 |    9.32983 |      105.51 | Dong Bang Song Cuu Long |\n",
            "|  8 | Bac Lieu   |         28 |         21 |           12 | ENE           |    0   |       74 |      26 |       1014 |            7 |     9 |       1 |   2009 | 2009-01-09 00:00:00 |           1.2 |     0.0666667 |           3.3 |        1.13333  |         0        |                 0 |               1 |            0 | 12           |  0       |             3.45586 |           4.76866 |             518 |          1924 |                182 |           1.9 |    9.32983 |      105.51 | Dong Bang Song Cuu Long |\n",
            "|  9 | Bac Lieu   |         26 |         18 |           14 | E             |    0   |       69 |      16 |       1014 |            8 |    10 |       1 |   2009 | 2009-01-10 00:00:00 |           0   |     0         |           0.6 |        1.03333  |         0        |                 0 |               1 |           90 |  8.57253e-16 | 14       |             3.45586 |           4.76866 |             552 |          1104 |                128 |           1.2 |    9.32983 |      105.51 | Dong Bang Song Cuu Long |\n",
            "+----+------------+------------+------------+--------------+---------------+--------+----------+---------+------------+--------------+-------+---------+--------+---------------------+---------------+---------------+---------------+-----------------+------------------+-------------------+-----------------+--------------+--------------+----------+---------------------+-------------------+-----------------+---------------+--------------------+---------------+------------+-------------+-------------------------+\n",
            "(177411, 33)\n"
          ]
        }
      ],
      "source": [
        "#5 fist row of this dataset\n",
        "\n",
        "from tabulate import tabulate\n",
        "print(tabulate(df_copy.head(10), headers='keys', tablefmt='psql'))\n",
        "\n",
        "print(df_copy.shape)"
      ]
    },
    {
      "cell_type": "markdown",
      "metadata": {
        "id": "-3qXInPF8WYe"
      },
      "source": [
        "#**Data Preprocessing**"
      ]
    },
    {
      "cell_type": "code",
      "execution_count": 44,
      "metadata": {
        "colab": {
          "base_uri": "https://localhost:8080/"
        },
        "id": "1DuOZ5PzRyYF",
        "outputId": "99c45699-1de7-4af4-ec22-233b640ffc0f"
      },
      "outputs": [
        {
          "name": "stdout",
          "output_type": "stream",
          "text": [
            "Missing data in  DataFrame:\n",
            " province             0\n",
            "max_temp             0\n",
            "min_temp             0\n",
            "wind_speed           0\n",
            "wind_direct          0\n",
            "rain                 0\n",
            "humidi               0\n",
            "cloud                0\n",
            "pressure             0\n",
            "range_temp           0\n",
            "day                  0\n",
            "month                0\n",
            "year                 0\n",
            "date                 0\n",
            "rain_1d_ago          0\n",
            "rain_3d_avg          0\n",
            "rain_7d_sum          0\n",
            "rain_trend_3d        0\n",
            "rain_intensity       0\n",
            "is_rainy_season      0\n",
            "is_dry_season        0\n",
            "wind_angle           0\n",
            "wind_x               0\n",
            "wind_y               0\n",
            "avg_rain_province    0\n",
            "avg_rain_region      0\n",
            "temp_humidity        0\n",
            "cloud_humid          0\n",
            "cloud_temp_range     0\n",
            "rain_2d_ago          0\n",
            "Latitude             0\n",
            "Longitude            0\n",
            "region               0\n",
            "dtype: int64\n",
            "Duplicate in DataFrame:  0\n"
          ]
        }
      ],
      "source": [
        "#Check for missing data\n",
        "print('Missing data in  DataFrame:\\n',df_copy.isnull().sum())\n",
        "#check for duplicaiton\n",
        "print('Duplicate in DataFrame: ',df_copy.duplicated().sum())"
      ]
    },
    {
      "cell_type": "markdown",
      "metadata": {
        "id": "_AlDNBD7jcx9"
      },
      "source": [
        "# **Handling Outlier**"
      ]
    },
    {
      "cell_type": "code",
      "execution_count": 45,
      "metadata": {
        "colab": {
          "base_uri": "https://localhost:8080/"
        },
        "id": "Rxog1Gp0ab6L",
        "outputId": "cf926427-2f5b-4ede-cc20-35579e678d7a"
      },
      "outputs": [
        {
          "data": {
            "image/png": "[encoded data removed]",
            "text/plain": [
              "<Figure size 1600x500 with 8 Axes>"
            ]
          },
          "metadata": {},
          "output_type": "display_data"
        }
      ],
      "source": [
        "#Boxplot before handle outlier\n",
        "boxplots(df_copy.drop(columns=['region', 'day', 'month', 'year','is_rainy_season','is_dry_season','avg_rain_region','avg_rain_province','rain_1d_ago','rain_3d_avg','rain_7d_sum', 'rain_intensity','temp_humidity','cloud_humid','rain_trend_3d','wind_angle','wind_x','wind_y','cloud_temp_range','rain_2d_ago','Latitude','Longitude'], axis=1))"
      ]
    },
    {
      "cell_type": "code",
      "execution_count": 46,
      "metadata": {},
      "outputs": [],
      "source": [
        "# Handling outlier by clipping\n",
        "df_clean = df_copy.copy()\n",
        "df_clip = df_clean.drop(columns=[\n",
        "    'region', 'day', 'month', 'year', 'is_rainy_season', 'is_dry_season',\n",
        "    'avg_rain_region', 'avg_rain_province', 'rain_1d_ago', 'rain_3d_avg', 'rain_7d_sum',\n",
        "    'rain_intensity', 'temp_humidity', 'cloud_humid', 'rain_trend_3d', 'wind_angle',\n",
        "    'wind_x', 'wind_y', 'cloud_temp_range', 'rain_2d_ago', 'Latitude', 'Longitude'\n",
        "], axis=1)\n",
        "\n",
        "# Chỉ xử lý clipping cho các cột số\n",
        "for i in df_clip.select_dtypes(include='number').columns:\n",
        "    df_clip[i] = Clipping(df_clip[i])\n",
        "\n",
        "df_clean[df_clip.columns] = df_clip\n"
      ]
    },
    {
      "cell_type": "code",
      "execution_count": 47,
      "metadata": {
        "colab": {
          "base_uri": "https://localhost:8080/"
        },
        "id": "WO7_H2TiB78V",
        "outputId": "31564c2b-d765-4163-a33a-0ff165ddb73f"
      },
      "outputs": [
        {
          "data": {
            "image/png": "[encoded data removed]",
            "text/plain": [
              "<Figure size 1600x500 with 8 Axes>"
            ]
          },
          "metadata": {},
          "output_type": "display_data"
        }
      ],
      "source": [
        "#box plot after\n",
        "boxplots(df_clean.drop(columns=['region', 'day', 'month', 'year','is_rainy_season','is_dry_season','avg_rain_region','avg_rain_province','rain_1d_ago','rain_3d_avg','rain_7d_sum', 'rain_intensity','temp_humidity','cloud_humid','rain_trend_3d','wind_angle','wind_x','wind_y','cloud_temp_range','rain_2d_ago','Latitude','Longitude'], axis=1))"
      ]
    },
    {
      "cell_type": "markdown",
      "metadata": {
        "id": "nTTDkqjjluh1"
      },
      "source": [
        "#**df_clean Overview**"
      ]
    },
    {
      "cell_type": "code",
      "execution_count": 48,
      "metadata": {
        "colab": {
          "base_uri": "https://localhost:8080/"
        },
        "id": "UmjaT2h9lz3-",
        "outputId": "7a2c2a8d-fb70-43ee-a1bb-82932efa4689"
      },
      "outputs": [
        {
          "data": {
            "text/html": [
              "<div>\n",
              "<style scoped>\n",
              "    .dataframe tbody tr th:only-of-type {\n",
              "        vertical-align: middle;\n",
              "    }\n",
              "\n",
              "    .dataframe tbody tr th {\n",
              "        vertical-align: top;\n",
              "    }\n",
              "\n",
              "    .dataframe thead th {\n",
              "        text-align: right;\n",
              "    }\n",
              "</style>\n",
              "<table border=\"1\" class=\"dataframe\">\n",
              "  <thead>\n",
              "    <tr style=\"text-align: right;\">\n",
              "      <th></th>\n",
              "      <th>province</th>\n",
              "      <th>max_temp</th>\n",
              "      <th>min_temp</th>\n",
              "      <th>wind_speed</th>\n",
              "      <th>wind_direct</th>\n",
              "      <th>rain</th>\n",
              "      <th>humidi</th>\n",
              "      <th>cloud</th>\n",
              "      <th>pressure</th>\n",
              "      <th>range_temp</th>\n",
              "      <th>...</th>\n",
              "      <th>wind_y</th>\n",
              "      <th>avg_rain_province</th>\n",
              "      <th>avg_rain_region</th>\n",
              "      <th>temp_humidity</th>\n",
              "      <th>cloud_humid</th>\n",
              "      <th>cloud_temp_range</th>\n",
              "      <th>rain_2d_ago</th>\n",
              "      <th>Latitude</th>\n",
              "      <th>Longitude</th>\n",
              "      <th>region</th>\n",
              "    </tr>\n",
              "  </thead>\n",
              "  <tbody>\n",
              "    <tr>\n",
              "      <th>0</th>\n",
              "      <td>Bac Lieu</td>\n",
              "      <td>27.0</td>\n",
              "      <td>22</td>\n",
              "      <td>17.0</td>\n",
              "      <td>NNE</td>\n",
              "      <td>6.9</td>\n",
              "      <td>90</td>\n",
              "      <td>71</td>\n",
              "      <td>1010</td>\n",
              "      <td>5.0</td>\n",
              "      <td>...</td>\n",
              "      <td>0.000000</td>\n",
              "      <td>3.455858</td>\n",
              "      <td>4.768658</td>\n",
              "      <td>450</td>\n",
              "      <td>6390</td>\n",
              "      <td>355</td>\n",
              "      <td>0.0</td>\n",
              "      <td>9.329834</td>\n",
              "      <td>105.509946</td>\n",
              "      <td>Dong Bang Song Cuu Long</td>\n",
              "    </tr>\n",
              "    <tr>\n",
              "      <th>1</th>\n",
              "      <td>Bac Lieu</td>\n",
              "      <td>28.0</td>\n",
              "      <td>22</td>\n",
              "      <td>15.0</td>\n",
              "      <td>ENE</td>\n",
              "      <td>0.5</td>\n",
              "      <td>85</td>\n",
              "      <td>61</td>\n",
              "      <td>1010</td>\n",
              "      <td>6.0</td>\n",
              "      <td>...</td>\n",
              "      <td>0.000000</td>\n",
              "      <td>3.455858</td>\n",
              "      <td>4.768658</td>\n",
              "      <td>510</td>\n",
              "      <td>5185</td>\n",
              "      <td>366</td>\n",
              "      <td>0.0</td>\n",
              "      <td>9.329834</td>\n",
              "      <td>105.509946</td>\n",
              "      <td>Dong Bang Song Cuu Long</td>\n",
              "    </tr>\n",
              "    <tr>\n",
              "      <th>2</th>\n",
              "      <td>Bac Lieu</td>\n",
              "      <td>23.0</td>\n",
              "      <td>21</td>\n",
              "      <td>9.0</td>\n",
              "      <td>ESE</td>\n",
              "      <td>16.7</td>\n",
              "      <td>91</td>\n",
              "      <td>77</td>\n",
              "      <td>1011</td>\n",
              "      <td>2.0</td>\n",
              "      <td>...</td>\n",
              "      <td>0.000000</td>\n",
              "      <td>3.455858</td>\n",
              "      <td>4.768658</td>\n",
              "      <td>182</td>\n",
              "      <td>7007</td>\n",
              "      <td>154</td>\n",
              "      <td>6.9</td>\n",
              "      <td>9.329834</td>\n",
              "      <td>105.509946</td>\n",
              "      <td>Dong Bang Song Cuu Long</td>\n",
              "    </tr>\n",
              "    <tr>\n",
              "      <th>3</th>\n",
              "      <td>Bac Lieu</td>\n",
              "      <td>27.0</td>\n",
              "      <td>21</td>\n",
              "      <td>9.0</td>\n",
              "      <td>E</td>\n",
              "      <td>2.2</td>\n",
              "      <td>86</td>\n",
              "      <td>32</td>\n",
              "      <td>1011</td>\n",
              "      <td>6.0</td>\n",
              "      <td>...</td>\n",
              "      <td>9.000000</td>\n",
              "      <td>3.455858</td>\n",
              "      <td>4.768658</td>\n",
              "      <td>516</td>\n",
              "      <td>2752</td>\n",
              "      <td>192</td>\n",
              "      <td>0.5</td>\n",
              "      <td>9.329834</td>\n",
              "      <td>105.509946</td>\n",
              "      <td>Dong Bang Song Cuu Long</td>\n",
              "    </tr>\n",
              "    <tr>\n",
              "      <th>4</th>\n",
              "      <td>Bac Lieu</td>\n",
              "      <td>29.0</td>\n",
              "      <td>22</td>\n",
              "      <td>10.0</td>\n",
              "      <td>SE</td>\n",
              "      <td>0.0</td>\n",
              "      <td>81</td>\n",
              "      <td>25</td>\n",
              "      <td>1010</td>\n",
              "      <td>7.0</td>\n",
              "      <td>...</td>\n",
              "      <td>7.071068</td>\n",
              "      <td>3.455858</td>\n",
              "      <td>4.768658</td>\n",
              "      <td>567</td>\n",
              "      <td>2025</td>\n",
              "      <td>175</td>\n",
              "      <td>16.7</td>\n",
              "      <td>9.329834</td>\n",
              "      <td>105.509946</td>\n",
              "      <td>Dong Bang Song Cuu Long</td>\n",
              "    </tr>\n",
              "  </tbody>\n",
              "</table>\n",
              "<p>5 rows × 33 columns</p>\n",
              "</div>"
            ],
            "text/plain": [
              "   province  max_temp  min_temp  wind_speed wind_direct  rain  humidi  cloud  \\\n",
              "0  Bac Lieu      27.0        22        17.0         NNE   6.9      90     71   \n",
              "1  Bac Lieu      28.0        22        15.0         ENE   0.5      85     61   \n",
              "2  Bac Lieu      23.0        21         9.0         ESE  16.7      91     77   \n",
              "3  Bac Lieu      27.0        21         9.0           E   2.2      86     32   \n",
              "4  Bac Lieu      29.0        22        10.0          SE   0.0      81     25   \n",
              "\n",
              "   pressure  range_temp  ...    wind_y  avg_rain_province  avg_rain_region  \\\n",
              "0      1010         5.0  ...  0.000000           3.455858         4.768658   \n",
              "1      1010         6.0  ...  0.000000           3.455858         4.768658   \n",
              "2      1011         2.0  ...  0.000000           3.455858         4.768658   \n",
              "3      1011         6.0  ...  9.000000           3.455858         4.768658   \n",
              "4      1010         7.0  ...  7.071068           3.455858         4.768658   \n",
              "\n",
              "  temp_humidity  cloud_humid  cloud_temp_range  rain_2d_ago  Latitude  \\\n",
              "0           450         6390               355          0.0  9.329834   \n",
              "1           510         5185               366          0.0  9.329834   \n",
              "2           182         7007               154          6.9  9.329834   \n",
              "3           516         2752               192          0.5  9.329834   \n",
              "4           567         2025               175         16.7  9.329834   \n",
              "\n",
              "    Longitude                   region  \n",
              "0  105.509946  Dong Bang Song Cuu Long  \n",
              "1  105.509946  Dong Bang Song Cuu Long  \n",
              "2  105.509946  Dong Bang Song Cuu Long  \n",
              "3  105.509946  Dong Bang Song Cuu Long  \n",
              "4  105.509946  Dong Bang Song Cuu Long  \n",
              "\n",
              "[5 rows x 33 columns]"
            ]
          },
          "metadata": {},
          "output_type": "display_data"
        },
        {
          "name": "stdout",
          "output_type": "stream",
          "text": [
            "(177411, 33)\n"
          ]
        }
      ],
      "source": [
        "#first 5 row of df_clean\n",
        "display(df_clean.head())\n",
        "print(df_clean.shape)"
      ]
    },
    {
      "cell_type": "code",
      "execution_count": 49,
      "metadata": {
        "id": "8Ec4D_q30vlm"
      },
      "outputs": [],
      "source": [
        "#Download cleaned data\n",
        "def downloadDf():\n",
        "  from google.colab import files\n",
        "  df_clean.to_csv('Cleaned_weather_data.csv', index=False)\n",
        "  files.download('Cleaned_weather_data.csv')\n",
        "  print('Download Successfully')\n",
        "\n",
        "#downloadFf()"
      ]
    },
    {
      "cell_type": "markdown",
      "metadata": {
        "id": "RSqxB_h_npLd"
      },
      "source": [
        "#**Identify factors that affect rainfall**"
      ]
    },
    {
      "cell_type": "markdown",
      "metadata": {
        "id": "G1brYAf_0pXz"
      },
      "source": [
        "##OLS"
      ]
    },
    {
      "cell_type": "code",
      "execution_count": 50,
      "metadata": {
        "colab": {
          "base_uri": "https://localhost:8080/",
          "height": 363
        },
        "id": "fHkWg3kU0r-C",
        "outputId": "3a816004-b7df-4275-9c06-7f33b2ac4d97"
      },
      "outputs": [
        {
          "data": {
            "text/html": [
              "<div>\n",
              "<style scoped>\n",
              "    .dataframe tbody tr th:only-of-type {\n",
              "        vertical-align: middle;\n",
              "    }\n",
              "\n",
              "    .dataframe tbody tr th {\n",
              "        vertical-align: top;\n",
              "    }\n",
              "\n",
              "    .dataframe thead th {\n",
              "        text-align: right;\n",
              "    }\n",
              "</style>\n",
              "<table border=\"1\" class=\"dataframe\">\n",
              "  <thead>\n",
              "    <tr style=\"text-align: right;\">\n",
              "      <th></th>\n",
              "      <th>adj_r_squared</th>\n",
              "      <th>f_statistic</th>\n",
              "      <th>Prob_F</th>\n",
              "    </tr>\n",
              "  </thead>\n",
              "  <tbody>\n",
              "    <tr>\n",
              "      <th>rain_1d_ago</th>\n",
              "      <td>0.236681</td>\n",
              "      <td>55010.308031</td>\n",
              "      <td>0.000000e+00</td>\n",
              "    </tr>\n",
              "    <tr>\n",
              "      <th>rain_trend_3d</th>\n",
              "      <td>0.224059</td>\n",
              "      <td>51229.438565</td>\n",
              "      <td>0.000000e+00</td>\n",
              "    </tr>\n",
              "    <tr>\n",
              "      <th>humidi</th>\n",
              "      <td>0.222942</td>\n",
              "      <td>50900.908833</td>\n",
              "      <td>0.000000e+00</td>\n",
              "    </tr>\n",
              "    <tr>\n",
              "      <th>cloud_humid</th>\n",
              "      <td>0.160872</td>\n",
              "      <td>34012.813343</td>\n",
              "      <td>0.000000e+00</td>\n",
              "    </tr>\n",
              "    <tr>\n",
              "      <th>is_rainy_season</th>\n",
              "      <td>0.136369</td>\n",
              "      <td>28014.349142</td>\n",
              "      <td>0.000000e+00</td>\n",
              "    </tr>\n",
              "    <tr>\n",
              "      <th>is_dry_season</th>\n",
              "      <td>0.136369</td>\n",
              "      <td>28014.349142</td>\n",
              "      <td>0.000000e+00</td>\n",
              "    </tr>\n",
              "    <tr>\n",
              "      <th>cloud</th>\n",
              "      <td>0.124416</td>\n",
              "      <td>25210.143548</td>\n",
              "      <td>0.000000e+00</td>\n",
              "    </tr>\n",
              "    <tr>\n",
              "      <th>rain_2d_ago</th>\n",
              "      <td>0.121790</td>\n",
              "      <td>24604.086384</td>\n",
              "      <td>0.000000e+00</td>\n",
              "    </tr>\n",
              "    <tr>\n",
              "      <th>pressure</th>\n",
              "      <td>0.088851</td>\n",
              "      <td>17301.211767</td>\n",
              "      <td>0.000000e+00</td>\n",
              "    </tr>\n",
              "    <tr>\n",
              "      <th>range_temp</th>\n",
              "      <td>0.080340</td>\n",
              "      <td>15499.254473</td>\n",
              "      <td>0.000000e+00</td>\n",
              "    </tr>\n",
              "    <tr>\n",
              "      <th>month</th>\n",
              "      <td>0.037825</td>\n",
              "      <td>6975.269497</td>\n",
              "      <td>0.000000e+00</td>\n",
              "    </tr>\n",
              "    <tr>\n",
              "      <th>avg_rain_province</th>\n",
              "      <td>0.035658</td>\n",
              "      <td>6561.049567</td>\n",
              "      <td>0.000000e+00</td>\n",
              "    </tr>\n",
              "    <tr>\n",
              "      <th>wind_y</th>\n",
              "      <td>0.029488</td>\n",
              "      <td>5391.507388</td>\n",
              "      <td>0.000000e+00</td>\n",
              "    </tr>\n",
              "    <tr>\n",
              "      <th>temp_humidity</th>\n",
              "      <td>0.028086</td>\n",
              "      <td>5127.731923</td>\n",
              "      <td>0.000000e+00</td>\n",
              "    </tr>\n",
              "    <tr>\n",
              "      <th>min_temp</th>\n",
              "      <td>0.027811</td>\n",
              "      <td>5076.163156</td>\n",
              "      <td>0.000000e+00</td>\n",
              "    </tr>\n",
              "    <tr>\n",
              "      <th>cloud_temp_range</th>\n",
              "      <td>0.017798</td>\n",
              "      <td>3215.791165</td>\n",
              "      <td>0.000000e+00</td>\n",
              "    </tr>\n",
              "    <tr>\n",
              "      <th>avg_rain_region</th>\n",
              "      <td>0.015118</td>\n",
              "      <td>2724.250223</td>\n",
              "      <td>0.000000e+00</td>\n",
              "    </tr>\n",
              "    <tr>\n",
              "      <th>wind_angle</th>\n",
              "      <td>0.006828</td>\n",
              "      <td>1220.671910</td>\n",
              "      <td>1.592112e-266</td>\n",
              "    </tr>\n",
              "    <tr>\n",
              "      <th>wind_speed</th>\n",
              "      <td>0.006092</td>\n",
              "      <td>1088.336104</td>\n",
              "      <td>5.987548e-238</td>\n",
              "    </tr>\n",
              "    <tr>\n",
              "      <th>Longitude</th>\n",
              "      <td>0.003170</td>\n",
              "      <td>565.223729</td>\n",
              "      <td>9.640215e-125</td>\n",
              "    </tr>\n",
              "    <tr>\n",
              "      <th>year</th>\n",
              "      <td>0.002464</td>\n",
              "      <td>439.185765</td>\n",
              "      <td>2.138167e-97</td>\n",
              "    </tr>\n",
              "    <tr>\n",
              "      <th>max_temp</th>\n",
              "      <td>0.001631</td>\n",
              "      <td>290.909781</td>\n",
              "      <td>3.551528e-65</td>\n",
              "    </tr>\n",
              "    <tr>\n",
              "      <th>rain_7d_sum</th>\n",
              "      <td>0.000266</td>\n",
              "      <td>48.261522</td>\n",
              "      <td>3.742766e-12</td>\n",
              "    </tr>\n",
              "    <tr>\n",
              "      <th>rain_intensity</th>\n",
              "      <td>0.000224</td>\n",
              "      <td>40.683675</td>\n",
              "      <td>1.794144e-10</td>\n",
              "    </tr>\n",
              "    <tr>\n",
              "      <th>rain_3d_avg</th>\n",
              "      <td>0.000205</td>\n",
              "      <td>37.345177</td>\n",
              "      <td>9.917030e-10</td>\n",
              "    </tr>\n",
              "    <tr>\n",
              "      <th>Latitude</th>\n",
              "      <td>0.000051</td>\n",
              "      <td>10.099441</td>\n",
              "      <td>1.483397e-03</td>\n",
              "    </tr>\n",
              "    <tr>\n",
              "      <th>wind_x</th>\n",
              "      <td>0.000049</td>\n",
              "      <td>9.736301</td>\n",
              "      <td>1.806931e-03</td>\n",
              "    </tr>\n",
              "    <tr>\n",
              "      <th>day</th>\n",
              "      <td>0.000018</td>\n",
              "      <td>4.210096</td>\n",
              "      <td>4.018554e-02</td>\n",
              "    </tr>\n",
              "  </tbody>\n",
              "</table>\n",
              "</div>"
            ],
            "text/plain": [
              "                   adj_r_squared   f_statistic         Prob_F\n",
              "rain_1d_ago             0.236681  55010.308031   0.000000e+00\n",
              "rain_trend_3d           0.224059  51229.438565   0.000000e+00\n",
              "humidi                  0.222942  50900.908833   0.000000e+00\n",
              "cloud_humid             0.160872  34012.813343   0.000000e+00\n",
              "is_rainy_season         0.136369  28014.349142   0.000000e+00\n",
              "is_dry_season           0.136369  28014.349142   0.000000e+00\n",
              "cloud                   0.124416  25210.143548   0.000000e+00\n",
              "rain_2d_ago             0.121790  24604.086384   0.000000e+00\n",
              "pressure                0.088851  17301.211767   0.000000e+00\n",
              "range_temp              0.080340  15499.254473   0.000000e+00\n",
              "month                   0.037825   6975.269497   0.000000e+00\n",
              "avg_rain_province       0.035658   6561.049567   0.000000e+00\n",
              "wind_y                  0.029488   5391.507388   0.000000e+00\n",
              "temp_humidity           0.028086   5127.731923   0.000000e+00\n",
              "min_temp                0.027811   5076.163156   0.000000e+00\n",
              "cloud_temp_range        0.017798   3215.791165   0.000000e+00\n",
              "avg_rain_region         0.015118   2724.250223   0.000000e+00\n",
              "wind_angle              0.006828   1220.671910  1.592112e-266\n",
              "wind_speed              0.006092   1088.336104  5.987548e-238\n",
              "Longitude               0.003170    565.223729  9.640215e-125\n",
              "year                    0.002464    439.185765   2.138167e-97\n",
              "max_temp                0.001631    290.909781   3.551528e-65\n",
              "rain_7d_sum             0.000266     48.261522   3.742766e-12\n",
              "rain_intensity          0.000224     40.683675   1.794144e-10\n",
              "rain_3d_avg             0.000205     37.345177   9.917030e-10\n",
              "Latitude                0.000051     10.099441   1.483397e-03\n",
              "wind_x                  0.000049      9.736301   1.806931e-03\n",
              "day                     0.000018      4.210096   4.018554e-02"
            ]
          },
          "execution_count": 50,
          "metadata": {},
          "output_type": "execute_result"
        }
      ],
      "source": [
        "# Get numeric columns only (excluding rain) \n",
        "numeric_cols = df_clean.select_dtypes(include='number').drop(columns=['rain']).columns\n",
        "\n",
        "ols_metric = {}\n",
        "for i in numeric_cols:\n",
        "    ols_metric[i] = ols_metrics(df_clean, i, 'rain')\n",
        "\n",
        "# Format results\n",
        "ols_result = pd.DataFrame(ols_metric).T\n",
        "ols_result.columns = ['adj_r_squared', 'f_statistic', 'Prob_F']\n",
        "\n",
        "# Sort by performance\n",
        "ols_result.sort_values(by='adj_r_squared', ascending=False)\n"
      ]
    },
    {
      "cell_type": "markdown",
      "metadata": {
        "id": "a8fWJsD43z-L"
      },
      "source": [
        "##Anova (one-way)"
      ]
    },
    {
      "cell_type": "code",
      "execution_count": 51,
      "metadata": {
        "colab": {
          "base_uri": "https://localhost:8080/",
          "height": 143
        },
        "id": "nAW4sfRWiciT",
        "outputId": "661d5889-82f2-44c4-dd97-170534ecda70"
      },
      "outputs": [
        {
          "data": {
            "text/html": [
              "<div>\n",
              "<style scoped>\n",
              "    .dataframe tbody tr th:only-of-type {\n",
              "        vertical-align: middle;\n",
              "    }\n",
              "\n",
              "    .dataframe tbody tr th {\n",
              "        vertical-align: top;\n",
              "    }\n",
              "\n",
              "    .dataframe thead th {\n",
              "        text-align: right;\n",
              "    }\n",
              "</style>\n",
              "<table border=\"1\" class=\"dataframe\">\n",
              "  <thead>\n",
              "    <tr style=\"text-align: right;\">\n",
              "      <th></th>\n",
              "      <th>eta_squared</th>\n",
              "      <th>F_value</th>\n",
              "      <th>Prob_F</th>\n",
              "    </tr>\n",
              "  </thead>\n",
              "  <tbody>\n",
              "    <tr>\n",
              "      <th>wind_direct</th>\n",
              "      <td>0.071488</td>\n",
              "      <td>910.535415</td>\n",
              "      <td>0.0</td>\n",
              "    </tr>\n",
              "    <tr>\n",
              "      <th>province</th>\n",
              "      <td>0.041732</td>\n",
              "      <td>203.273848</td>\n",
              "      <td>0.0</td>\n",
              "    </tr>\n",
              "    <tr>\n",
              "      <th>region</th>\n",
              "      <td>0.018125</td>\n",
              "      <td>654.961711</td>\n",
              "      <td>0.0</td>\n",
              "    </tr>\n",
              "  </tbody>\n",
              "</table>\n",
              "</div>"
            ],
            "text/plain": [
              "             eta_squared     F_value  Prob_F\n",
              "wind_direct     0.071488  910.535415     0.0\n",
              "province        0.041732  203.273848     0.0\n",
              "region          0.018125  654.961711     0.0"
            ]
          },
          "execution_count": 51,
          "metadata": {},
          "output_type": "execute_result"
        }
      ],
      "source": [
        "anova_metric = {}\n",
        "for i in df_clean[['province', 'region', 'wind_direct']].columns:\n",
        "  if i != 'rain':\n",
        "    anova_metric[i] = anova_metrics(df_clean,'rain',i)\n",
        "\n",
        "anova_result = pd.DataFrame(anova_metric).T\n",
        "anova_result.columns = ['eta_squared', 'F_value', 'Prob_F']\n",
        "\n",
        "anova_result.sort_values(by=['eta_squared'], ascending=False)"
      ]
    },
    {
      "cell_type": "code",
      "execution_count": 52,
      "metadata": {
        "id": "3Oa2_RBmRA8G"
      },
      "outputs": [],
      "source": [
        "ols_result = ols_result.rename(columns={\n",
        "    'adj_r_squared': 'effect_size',\n",
        "    'f_statistic': 'F_value',\n",
        "    'Prob_F': 'Prob_F'\n",
        "})\n",
        "ols_result['feature_type'] = 'continuous'\n",
        "\n",
        "anova_result = anova_result.rename(columns={\n",
        "    'eta_squared': 'effect_size'\n",
        "})\n",
        "anova_result['feature_type'] = 'categorical'\n",
        "\n",
        "# Combine both\n",
        "combined_result = pd.concat([ols_result, anova_result])\n",
        "combined_result = combined_result.reset_index().rename(columns={'index': 'feature'})\n",
        "\n",
        "# Sort by effect size\n",
        "combined_result_sorted = combined_result.sort_values(by='effect_size', ascending=False)"
      ]
    },
    {
      "cell_type": "code",
      "execution_count": 53,
      "metadata": {
        "colab": {
          "base_uri": "https://localhost:8080/",
          "height": 707
        },
        "id": "YafSPEPlRE84",
        "outputId": "49e08616-1303-4696-af9b-95bae106302f"
      },
      "outputs": [
        {
          "data": {
            "image/png": "[encoded data removed]",
            "text/plain": [
              "<Figure size 1200x700 with 1 Axes>"
            ]
          },
          "metadata": {},
          "output_type": "display_data"
        }
      ],
      "source": [
        "plt.figure(figsize=(12, 7))\n",
        "sns.barplot(\n",
        "    data=combined_result_sorted,\n",
        "    x='effect_size',\n",
        "    y='feature',\n",
        "    hue='feature_type',\n",
        "    dodge=False,\n",
        "    palette={'continuous': 'skyblue', 'categorical': 'orange'}\n",
        ")\n",
        "\n",
        "plt.title('Feature Importance (OLS + ANOVA)', fontsize=16)\n",
        "plt.xlabel('Effect Size (Adj R² or Eta²)', fontsize=12)\n",
        "plt.ylabel('Feature', fontsize=12)\n",
        "plt.legend(title='Feature Type')\n",
        "plt.grid(True, axis='x', linestyle='--', alpha=0.7)\n",
        "plt.tight_layout()\n",
        "plt.show()\n"
      ]
    },
    {
      "cell_type": "code",
      "execution_count": 54,
      "metadata": {},
      "outputs": [
        {
          "name": "stdout",
          "output_type": "stream",
          "text": [
            "        province  max_temp  min_temp  wind_speed wind_direct  rain  humidi  \\\n",
            "0       Bac Lieu      27.0        22        17.0         NNE   6.9      90   \n",
            "1       Bac Lieu      28.0        22        15.0         ENE   0.5      85   \n",
            "2       Bac Lieu      23.0        21         9.0         ESE  16.7      91   \n",
            "3       Bac Lieu      27.0        21         9.0           E   2.2      86   \n",
            "4       Bac Lieu      29.0        22        10.0          SE   0.0      81   \n",
            "...          ...       ...       ...         ...         ...   ...     ...   \n",
            "177406   Yen Bai      32.0        23         6.0         ESE   7.3      79   \n",
            "177407   Yen Bai      34.0        25         6.0         SSE   0.3      71   \n",
            "177408   Yen Bai      36.0        27         6.0          SW   0.0      64   \n",
            "177409   Yen Bai      37.0        28         7.0           S   0.0      66   \n",
            "177410   Yen Bai      37.0        28         8.0         SSE   0.0      65   \n",
            "\n",
            "        cloud  pressure  range_temp  ...        wind_y  avg_rain_province  \\\n",
            "0          71      1010         5.0  ...  0.000000e+00           3.455858   \n",
            "1          61      1010         6.0  ...  0.000000e+00           3.455858   \n",
            "2          77      1011         2.0  ...  0.000000e+00           3.455858   \n",
            "3          32      1011         6.0  ...  9.000000e+00           3.455858   \n",
            "4          25      1010         7.0  ...  7.071068e+00           3.455858   \n",
            "...       ...       ...         ...  ...           ...                ...   \n",
            "177406     71      1002         9.0  ...  0.000000e+00           9.170103   \n",
            "177407     46      1002         9.0  ...  0.000000e+00           9.170103   \n",
            "177408     29      1002         9.0  ... -4.242641e+00           9.170103   \n",
            "177409     27      1002         9.0  ...  8.572528e-16           9.170103   \n",
            "177410     19      1002         9.0  ...  0.000000e+00           9.170103   \n",
            "\n",
            "        avg_rain_region temp_humidity  cloud_humid  cloud_temp_range  \\\n",
            "0              4.768658           450         6390               355   \n",
            "1              4.768658           510         5185               366   \n",
            "2              4.768658           182         7007               154   \n",
            "3              4.768658           516         2752               192   \n",
            "4              4.768658           567         2025               175   \n",
            "...                 ...           ...          ...               ...   \n",
            "177406         8.029243           711         5609               639   \n",
            "177407         8.029243           639         3266               414   \n",
            "177408         8.029243           576         1856               261   \n",
            "177409         8.029243           594         1782               243   \n",
            "177410         8.029243           585         1235               171   \n",
            "\n",
            "        rain_2d_ago   Latitude   Longitude                         region  \n",
            "0               0.0   9.329834  105.509946        Dong Bang Song Cuu Long  \n",
            "1               0.0   9.329834  105.509946        Dong Bang Song Cuu Long  \n",
            "2               6.9   9.329834  105.509946        Dong Bang Song Cuu Long  \n",
            "3               0.5   9.329834  105.509946        Dong Bang Song Cuu Long  \n",
            "4              16.7   9.329834  105.509946        Dong Bang Song Cuu Long  \n",
            "...             ...        ...         ...                            ...  \n",
            "177406         18.3  21.826868  104.663122  Trung du va Mien Nui Phia Bac  \n",
            "177407         28.2  21.826868  104.663122  Trung du va Mien Nui Phia Bac  \n",
            "177408          7.3  21.826868  104.663122  Trung du va Mien Nui Phia Bac  \n",
            "177409          0.3  21.826868  104.663122  Trung du va Mien Nui Phia Bac  \n",
            "177410          0.0  21.826868  104.663122  Trung du va Mien Nui Phia Bac  \n",
            "\n",
            "[177411 rows x 33 columns]\n"
          ]
        }
      ],
      "source": [
        "print(df_clean)"
      ]
    },
    {
      "cell_type": "code",
      "execution_count": null,
      "metadata": {},
      "outputs": [],
      "source": [
        "    \"rain_1d_ago\", \"rain_trend_3d\", \"humidi\", \"cloud_humid\",\n",
        "    \"is_rainy_season\", \"is_dry_season\", \"cloud\", \"rain_2d_ago\",\n",
        "    \"pressure\", \"range_temp\" \"wind_direct\", \"province\", \"month\",\n",
        "    \"avg_rain_province\", \"wind_y\", \"temp_humidity\""
      ]
    },
    {
      "cell_type": "code",
      "execution_count": null,
      "metadata": {},
      "outputs": [],
      "source": [
        "features = [\n",
        "    'humidi', 'cloud', 'pressure', 'cloud_humid',\n",
        "    'is_rainy_season', 'is_dry_season',\n",
        "    'max_temp', 'min_temp','range_temp',\n",
        "    'rain_1d_ago', 'rain_2d_ago','rain_trend_3d','rain_intensity',         \n",
        "    'wind_x', 'wind_y', 'Longitude', 'Latitude'                       \n",
        "]"
      ]
    },
    {
      "cell_type": "code",
      "execution_count": 55,
      "metadata": {},
      "outputs": [
        {
          "name": "stdout",
          "output_type": "stream",
          "text": [
            " File 'weather_processed.csv' đã được lưu!\n"
          ]
        }
      ],
      "source": [
        "# Lưu toàn bộ dataframe đã xử lý ra file CSV\n",
        "df_clean.to_csv(\"final_weather_processed.csv\", index=False)\n",
        "\n",
        "print(\" File 'weather_processed.csv' đã được lưu!\")\n"
      ]
    },
    {
      "cell_type": "code",
      "execution_count": 65,
      "metadata": {},
      "outputs": [
        {
          "name": "stdout",
          "output_type": "stream",
          "text": [
            "Fitting 3 folds for each of 20 candidates, totalling 60 fits\n"
          ]
        },
        {
          "ename": "KeyboardInterrupt",
          "evalue": "",
          "output_type": "error",
          "traceback": [
            "\u001b[31m---------------------------------------------------------------------------\u001b[39m",
            "\u001b[31mKeyboardInterrupt\u001b[39m                         Traceback (most recent call last)",
            "\u001b[36mCell\u001b[39m\u001b[36m \u001b[39m\u001b[32mIn[65]\u001b[39m\u001b[32m, line 58\u001b[39m\n\u001b[32m     45\u001b[39m param_dist_rf = {\n\u001b[32m     46\u001b[39m     \u001b[33m'\u001b[39m\u001b[33mn_estimators\u001b[39m\u001b[33m'\u001b[39m: [\u001b[32m200\u001b[39m, \u001b[32m300\u001b[39m, \u001b[32m400\u001b[39m, \u001b[32m500\u001b[39m],\n\u001b[32m     47\u001b[39m     \u001b[33m'\u001b[39m\u001b[33mmax_depth\u001b[39m\u001b[33m'\u001b[39m: [\u001b[32m10\u001b[39m, \u001b[32m20\u001b[39m, \u001b[32m30\u001b[39m, \u001b[38;5;28;01mNone\u001b[39;00m],\n\u001b[32m   (...)\u001b[39m\u001b[32m     50\u001b[39m     \u001b[33m'\u001b[39m\u001b[33mmax_features\u001b[39m\u001b[33m'\u001b[39m: [\u001b[33m'\u001b[39m\u001b[33msqrt\u001b[39m\u001b[33m'\u001b[39m, \u001b[33m'\u001b[39m\u001b[33mlog2\u001b[39m\u001b[33m'\u001b[39m]\n\u001b[32m     51\u001b[39m }\n\u001b[32m     52\u001b[39m search_rf = RandomizedSearchCV(\n\u001b[32m     53\u001b[39m     RandomForestRegressor(random_state=\u001b[32m42\u001b[39m, n_jobs=-\u001b[32m1\u001b[39m),\n\u001b[32m     54\u001b[39m     param_distributions=param_dist_rf,\n\u001b[32m     55\u001b[39m     n_iter=\u001b[32m20\u001b[39m, cv=\u001b[32m3\u001b[39m, verbose=\u001b[32m1\u001b[39m, random_state=\u001b[32m42\u001b[39m,\n\u001b[32m     56\u001b[39m     scoring=\u001b[33m'\u001b[39m\u001b[33mneg_root_mean_squared_error\u001b[39m\u001b[33m'\u001b[39m, n_jobs=-\u001b[32m1\u001b[39m\n\u001b[32m     57\u001b[39m )\n\u001b[32m---> \u001b[39m\u001b[32m58\u001b[39m \u001b[43msearch_rf\u001b[49m\u001b[43m.\u001b[49m\u001b[43mfit\u001b[49m\u001b[43m(\u001b[49m\u001b[43mX_train\u001b[49m\u001b[43m,\u001b[49m\u001b[43m \u001b[49m\u001b[43my_train_log\u001b[49m\u001b[43m)\u001b[49m\n\u001b[32m     59\u001b[39m best_rf = search_rf.best_estimator_\n\u001b[32m     61\u001b[39m \u001b[38;5;66;03m# ================================\u001b[39;00m\n\u001b[32m     62\u001b[39m \u001b[38;5;66;03m# 🔶 2. KNN\u001b[39;00m\n\u001b[32m     63\u001b[39m \u001b[38;5;66;03m# ================================\u001b[39;00m\n",
            "\u001b[36mFile \u001b[39m\u001b[32mc:\\Users\\HNS\\AppData\\Local\\Programs\\Python\\Python313\\Lib\\site-packages\\sklearn\\base.py:1389\u001b[39m, in \u001b[36m_fit_context.<locals>.decorator.<locals>.wrapper\u001b[39m\u001b[34m(estimator, *args, **kwargs)\u001b[39m\n\u001b[32m   1382\u001b[39m     estimator._validate_params()\n\u001b[32m   1384\u001b[39m \u001b[38;5;28;01mwith\u001b[39;00m config_context(\n\u001b[32m   1385\u001b[39m     skip_parameter_validation=(\n\u001b[32m   1386\u001b[39m         prefer_skip_nested_validation \u001b[38;5;129;01mor\u001b[39;00m global_skip_validation\n\u001b[32m   1387\u001b[39m     )\n\u001b[32m   1388\u001b[39m ):\n\u001b[32m-> \u001b[39m\u001b[32m1389\u001b[39m     \u001b[38;5;28;01mreturn\u001b[39;00m \u001b[43mfit_method\u001b[49m\u001b[43m(\u001b[49m\u001b[43mestimator\u001b[49m\u001b[43m,\u001b[49m\u001b[43m \u001b[49m\u001b[43m*\u001b[49m\u001b[43margs\u001b[49m\u001b[43m,\u001b[49m\u001b[43m \u001b[49m\u001b[43m*\u001b[49m\u001b[43m*\u001b[49m\u001b[43mkwargs\u001b[49m\u001b[43m)\u001b[49m\n",
            "\u001b[36mFile \u001b[39m\u001b[32mc:\\Users\\HNS\\AppData\\Local\\Programs\\Python\\Python313\\Lib\\site-packages\\sklearn\\model_selection\\_search.py:1024\u001b[39m, in \u001b[36mBaseSearchCV.fit\u001b[39m\u001b[34m(self, X, y, **params)\u001b[39m\n\u001b[32m   1018\u001b[39m     results = \u001b[38;5;28mself\u001b[39m._format_results(\n\u001b[32m   1019\u001b[39m         all_candidate_params, n_splits, all_out, all_more_results\n\u001b[32m   1020\u001b[39m     )\n\u001b[32m   1022\u001b[39m     \u001b[38;5;28;01mreturn\u001b[39;00m results\n\u001b[32m-> \u001b[39m\u001b[32m1024\u001b[39m \u001b[38;5;28;43mself\u001b[39;49m\u001b[43m.\u001b[49m\u001b[43m_run_search\u001b[49m\u001b[43m(\u001b[49m\u001b[43mevaluate_candidates\u001b[49m\u001b[43m)\u001b[49m\n\u001b[32m   1026\u001b[39m \u001b[38;5;66;03m# multimetric is determined here because in the case of a callable\u001b[39;00m\n\u001b[32m   1027\u001b[39m \u001b[38;5;66;03m# self.scoring the return type is only known after calling\u001b[39;00m\n\u001b[32m   1028\u001b[39m first_test_score = all_out[\u001b[32m0\u001b[39m][\u001b[33m\"\u001b[39m\u001b[33mtest_scores\u001b[39m\u001b[33m\"\u001b[39m]\n",
            "\u001b[36mFile \u001b[39m\u001b[32mc:\\Users\\HNS\\AppData\\Local\\Programs\\Python\\Python313\\Lib\\site-packages\\sklearn\\model_selection\\_search.py:1951\u001b[39m, in \u001b[36mRandomizedSearchCV._run_search\u001b[39m\u001b[34m(self, evaluate_candidates)\u001b[39m\n\u001b[32m   1949\u001b[39m \u001b[38;5;28;01mdef\u001b[39;00m\u001b[38;5;250m \u001b[39m\u001b[34m_run_search\u001b[39m(\u001b[38;5;28mself\u001b[39m, evaluate_candidates):\n\u001b[32m   1950\u001b[39m \u001b[38;5;250m    \u001b[39m\u001b[33;03m\"\"\"Search n_iter candidates from param_distributions\"\"\"\u001b[39;00m\n\u001b[32m-> \u001b[39m\u001b[32m1951\u001b[39m     \u001b[43mevaluate_candidates\u001b[49m\u001b[43m(\u001b[49m\n\u001b[32m   1952\u001b[39m \u001b[43m        \u001b[49m\u001b[43mParameterSampler\u001b[49m\u001b[43m(\u001b[49m\n\u001b[32m   1953\u001b[39m \u001b[43m            \u001b[49m\u001b[38;5;28;43mself\u001b[39;49m\u001b[43m.\u001b[49m\u001b[43mparam_distributions\u001b[49m\u001b[43m,\u001b[49m\u001b[43m \u001b[49m\u001b[38;5;28;43mself\u001b[39;49m\u001b[43m.\u001b[49m\u001b[43mn_iter\u001b[49m\u001b[43m,\u001b[49m\u001b[43m \u001b[49m\u001b[43mrandom_state\u001b[49m\u001b[43m=\u001b[49m\u001b[38;5;28;43mself\u001b[39;49m\u001b[43m.\u001b[49m\u001b[43mrandom_state\u001b[49m\n\u001b[32m   1954\u001b[39m \u001b[43m        \u001b[49m\u001b[43m)\u001b[49m\n\u001b[32m   1955\u001b[39m \u001b[43m    \u001b[49m\u001b[43m)\u001b[49m\n",
            "\u001b[36mFile \u001b[39m\u001b[32mc:\\Users\\HNS\\AppData\\Local\\Programs\\Python\\Python313\\Lib\\site-packages\\sklearn\\model_selection\\_search.py:970\u001b[39m, in \u001b[36mBaseSearchCV.fit.<locals>.evaluate_candidates\u001b[39m\u001b[34m(candidate_params, cv, more_results)\u001b[39m\n\u001b[32m    962\u001b[39m \u001b[38;5;28;01mif\u001b[39;00m \u001b[38;5;28mself\u001b[39m.verbose > \u001b[32m0\u001b[39m:\n\u001b[32m    963\u001b[39m     \u001b[38;5;28mprint\u001b[39m(\n\u001b[32m    964\u001b[39m         \u001b[33m\"\u001b[39m\u001b[33mFitting \u001b[39m\u001b[38;5;132;01m{0}\u001b[39;00m\u001b[33m folds for each of \u001b[39m\u001b[38;5;132;01m{1}\u001b[39;00m\u001b[33m candidates,\u001b[39m\u001b[33m\"\u001b[39m\n\u001b[32m    965\u001b[39m         \u001b[33m\"\u001b[39m\u001b[33m totalling \u001b[39m\u001b[38;5;132;01m{2}\u001b[39;00m\u001b[33m fits\u001b[39m\u001b[33m\"\u001b[39m.format(\n\u001b[32m    966\u001b[39m             n_splits, n_candidates, n_candidates * n_splits\n\u001b[32m    967\u001b[39m         )\n\u001b[32m    968\u001b[39m     )\n\u001b[32m--> \u001b[39m\u001b[32m970\u001b[39m out = \u001b[43mparallel\u001b[49m\u001b[43m(\u001b[49m\n\u001b[32m    971\u001b[39m \u001b[43m    \u001b[49m\u001b[43mdelayed\u001b[49m\u001b[43m(\u001b[49m\u001b[43m_fit_and_score\u001b[49m\u001b[43m)\u001b[49m\u001b[43m(\u001b[49m\n\u001b[32m    972\u001b[39m \u001b[43m        \u001b[49m\u001b[43mclone\u001b[49m\u001b[43m(\u001b[49m\u001b[43mbase_estimator\u001b[49m\u001b[43m)\u001b[49m\u001b[43m,\u001b[49m\n\u001b[32m    973\u001b[39m \u001b[43m        \u001b[49m\u001b[43mX\u001b[49m\u001b[43m,\u001b[49m\n\u001b[32m    974\u001b[39m \u001b[43m        \u001b[49m\u001b[43my\u001b[49m\u001b[43m,\u001b[49m\n\u001b[32m    975\u001b[39m \u001b[43m        \u001b[49m\u001b[43mtrain\u001b[49m\u001b[43m=\u001b[49m\u001b[43mtrain\u001b[49m\u001b[43m,\u001b[49m\n\u001b[32m    976\u001b[39m \u001b[43m        \u001b[49m\u001b[43mtest\u001b[49m\u001b[43m=\u001b[49m\u001b[43mtest\u001b[49m\u001b[43m,\u001b[49m\n\u001b[32m    977\u001b[39m \u001b[43m        \u001b[49m\u001b[43mparameters\u001b[49m\u001b[43m=\u001b[49m\u001b[43mparameters\u001b[49m\u001b[43m,\u001b[49m\n\u001b[32m    978\u001b[39m \u001b[43m        \u001b[49m\u001b[43msplit_progress\u001b[49m\u001b[43m=\u001b[49m\u001b[43m(\u001b[49m\u001b[43msplit_idx\u001b[49m\u001b[43m,\u001b[49m\u001b[43m \u001b[49m\u001b[43mn_splits\u001b[49m\u001b[43m)\u001b[49m\u001b[43m,\u001b[49m\n\u001b[32m    979\u001b[39m \u001b[43m        \u001b[49m\u001b[43mcandidate_progress\u001b[49m\u001b[43m=\u001b[49m\u001b[43m(\u001b[49m\u001b[43mcand_idx\u001b[49m\u001b[43m,\u001b[49m\u001b[43m \u001b[49m\u001b[43mn_candidates\u001b[49m\u001b[43m)\u001b[49m\u001b[43m,\u001b[49m\n\u001b[32m    980\u001b[39m \u001b[43m        \u001b[49m\u001b[43m*\u001b[49m\u001b[43m*\u001b[49m\u001b[43mfit_and_score_kwargs\u001b[49m\u001b[43m,\u001b[49m\n\u001b[32m    981\u001b[39m \u001b[43m    \u001b[49m\u001b[43m)\u001b[49m\n\u001b[32m    982\u001b[39m \u001b[43m    \u001b[49m\u001b[38;5;28;43;01mfor\u001b[39;49;00m\u001b[43m \u001b[49m\u001b[43m(\u001b[49m\u001b[43mcand_idx\u001b[49m\u001b[43m,\u001b[49m\u001b[43m \u001b[49m\u001b[43mparameters\u001b[49m\u001b[43m)\u001b[49m\u001b[43m,\u001b[49m\u001b[43m \u001b[49m\u001b[43m(\u001b[49m\u001b[43msplit_idx\u001b[49m\u001b[43m,\u001b[49m\u001b[43m \u001b[49m\u001b[43m(\u001b[49m\u001b[43mtrain\u001b[49m\u001b[43m,\u001b[49m\u001b[43m \u001b[49m\u001b[43mtest\u001b[49m\u001b[43m)\u001b[49m\u001b[43m)\u001b[49m\u001b[43m \u001b[49m\u001b[38;5;129;43;01min\u001b[39;49;00m\u001b[43m \u001b[49m\u001b[43mproduct\u001b[49m\u001b[43m(\u001b[49m\n\u001b[32m    983\u001b[39m \u001b[43m        \u001b[49m\u001b[38;5;28;43menumerate\u001b[39;49m\u001b[43m(\u001b[49m\u001b[43mcandidate_params\u001b[49m\u001b[43m)\u001b[49m\u001b[43m,\u001b[49m\n\u001b[32m    984\u001b[39m \u001b[43m        \u001b[49m\u001b[38;5;28;43menumerate\u001b[39;49m\u001b[43m(\u001b[49m\u001b[43mcv\u001b[49m\u001b[43m.\u001b[49m\u001b[43msplit\u001b[49m\u001b[43m(\u001b[49m\u001b[43mX\u001b[49m\u001b[43m,\u001b[49m\u001b[43m \u001b[49m\u001b[43my\u001b[49m\u001b[43m,\u001b[49m\u001b[43m \u001b[49m\u001b[43m*\u001b[49m\u001b[43m*\u001b[49m\u001b[43mrouted_params\u001b[49m\u001b[43m.\u001b[49m\u001b[43msplitter\u001b[49m\u001b[43m.\u001b[49m\u001b[43msplit\u001b[49m\u001b[43m)\u001b[49m\u001b[43m)\u001b[49m\u001b[43m,\u001b[49m\n\u001b[32m    985\u001b[39m \u001b[43m    \u001b[49m\u001b[43m)\u001b[49m\n\u001b[32m    986\u001b[39m \u001b[43m\u001b[49m\u001b[43m)\u001b[49m\n\u001b[32m    988\u001b[39m \u001b[38;5;28;01mif\u001b[39;00m \u001b[38;5;28mlen\u001b[39m(out) < \u001b[32m1\u001b[39m:\n\u001b[32m    989\u001b[39m     \u001b[38;5;28;01mraise\u001b[39;00m \u001b[38;5;167;01mValueError\u001b[39;00m(\n\u001b[32m    990\u001b[39m         \u001b[33m\"\u001b[39m\u001b[33mNo fits were performed. \u001b[39m\u001b[33m\"\u001b[39m\n\u001b[32m    991\u001b[39m         \u001b[33m\"\u001b[39m\u001b[33mWas the CV iterator empty? \u001b[39m\u001b[33m\"\u001b[39m\n\u001b[32m    992\u001b[39m         \u001b[33m\"\u001b[39m\u001b[33mWere there no candidates?\u001b[39m\u001b[33m\"\u001b[39m\n\u001b[32m    993\u001b[39m     )\n",
            "\u001b[36mFile \u001b[39m\u001b[32mc:\\Users\\HNS\\AppData\\Local\\Programs\\Python\\Python313\\Lib\\site-packages\\sklearn\\utils\\parallel.py:77\u001b[39m, in \u001b[36mParallel.__call__\u001b[39m\u001b[34m(self, iterable)\u001b[39m\n\u001b[32m     72\u001b[39m config = get_config()\n\u001b[32m     73\u001b[39m iterable_with_config = (\n\u001b[32m     74\u001b[39m     (_with_config(delayed_func, config), args, kwargs)\n\u001b[32m     75\u001b[39m     \u001b[38;5;28;01mfor\u001b[39;00m delayed_func, args, kwargs \u001b[38;5;129;01min\u001b[39;00m iterable\n\u001b[32m     76\u001b[39m )\n\u001b[32m---> \u001b[39m\u001b[32m77\u001b[39m \u001b[38;5;28;01mreturn\u001b[39;00m \u001b[38;5;28;43msuper\u001b[39;49m\u001b[43m(\u001b[49m\u001b[43m)\u001b[49m\u001b[43m.\u001b[49m\u001b[34;43m__call__\u001b[39;49m\u001b[43m(\u001b[49m\u001b[43miterable_with_config\u001b[49m\u001b[43m)\u001b[49m\n",
            "\u001b[36mFile \u001b[39m\u001b[32mc:\\Users\\HNS\\AppData\\Local\\Programs\\Python\\Python313\\Lib\\site-packages\\joblib\\parallel.py:2072\u001b[39m, in \u001b[36mParallel.__call__\u001b[39m\u001b[34m(self, iterable)\u001b[39m\n\u001b[32m   2066\u001b[39m \u001b[38;5;66;03m# The first item from the output is blank, but it makes the interpreter\u001b[39;00m\n\u001b[32m   2067\u001b[39m \u001b[38;5;66;03m# progress until it enters the Try/Except block of the generator and\u001b[39;00m\n\u001b[32m   2068\u001b[39m \u001b[38;5;66;03m# reaches the first `yield` statement. This starts the asynchronous\u001b[39;00m\n\u001b[32m   2069\u001b[39m \u001b[38;5;66;03m# dispatch of the tasks to the workers.\u001b[39;00m\n\u001b[32m   2070\u001b[39m \u001b[38;5;28mnext\u001b[39m(output)\n\u001b[32m-> \u001b[39m\u001b[32m2072\u001b[39m \u001b[38;5;28;01mreturn\u001b[39;00m output \u001b[38;5;28;01mif\u001b[39;00m \u001b[38;5;28mself\u001b[39m.return_generator \u001b[38;5;28;01melse\u001b[39;00m \u001b[38;5;28;43mlist\u001b[39;49m\u001b[43m(\u001b[49m\u001b[43moutput\u001b[49m\u001b[43m)\u001b[49m\n",
            "\u001b[36mFile \u001b[39m\u001b[32mc:\\Users\\HNS\\AppData\\Local\\Programs\\Python\\Python313\\Lib\\site-packages\\joblib\\parallel.py:1682\u001b[39m, in \u001b[36mParallel._get_outputs\u001b[39m\u001b[34m(self, iterator, pre_dispatch)\u001b[39m\n\u001b[32m   1679\u001b[39m     \u001b[38;5;28;01myield\u001b[39;00m\n\u001b[32m   1681\u001b[39m     \u001b[38;5;28;01mwith\u001b[39;00m \u001b[38;5;28mself\u001b[39m._backend.retrieval_context():\n\u001b[32m-> \u001b[39m\u001b[32m1682\u001b[39m         \u001b[38;5;28;01myield from\u001b[39;00m \u001b[38;5;28mself\u001b[39m._retrieve()\n\u001b[32m   1684\u001b[39m \u001b[38;5;28;01mexcept\u001b[39;00m \u001b[38;5;167;01mGeneratorExit\u001b[39;00m:\n\u001b[32m   1685\u001b[39m     \u001b[38;5;66;03m# The generator has been garbage collected before being fully\u001b[39;00m\n\u001b[32m   1686\u001b[39m     \u001b[38;5;66;03m# consumed. This aborts the remaining tasks if possible and warn\u001b[39;00m\n\u001b[32m   1687\u001b[39m     \u001b[38;5;66;03m# the user if necessary.\u001b[39;00m\n\u001b[32m   1688\u001b[39m     \u001b[38;5;28mself\u001b[39m._exception = \u001b[38;5;28;01mTrue\u001b[39;00m\n",
            "\u001b[36mFile \u001b[39m\u001b[32mc:\\Users\\HNS\\AppData\\Local\\Programs\\Python\\Python313\\Lib\\site-packages\\joblib\\parallel.py:1800\u001b[39m, in \u001b[36mParallel._retrieve\u001b[39m\u001b[34m(self)\u001b[39m\n\u001b[32m   1789\u001b[39m \u001b[38;5;28;01mif\u001b[39;00m \u001b[38;5;28mself\u001b[39m.return_ordered:\n\u001b[32m   1790\u001b[39m     \u001b[38;5;66;03m# Case ordered: wait for completion (or error) of the next job\u001b[39;00m\n\u001b[32m   1791\u001b[39m     \u001b[38;5;66;03m# that have been dispatched and not retrieved yet. If no job\u001b[39;00m\n\u001b[32m   (...)\u001b[39m\u001b[32m   1795\u001b[39m     \u001b[38;5;66;03m# control only have to be done on the amount of time the next\u001b[39;00m\n\u001b[32m   1796\u001b[39m     \u001b[38;5;66;03m# dispatched job is pending.\u001b[39;00m\n\u001b[32m   1797\u001b[39m     \u001b[38;5;28;01mif\u001b[39;00m (nb_jobs == \u001b[32m0\u001b[39m) \u001b[38;5;129;01mor\u001b[39;00m (\n\u001b[32m   1798\u001b[39m         \u001b[38;5;28mself\u001b[39m._jobs[\u001b[32m0\u001b[39m].get_status(timeout=\u001b[38;5;28mself\u001b[39m.timeout) == TASK_PENDING\n\u001b[32m   1799\u001b[39m     ):\n\u001b[32m-> \u001b[39m\u001b[32m1800\u001b[39m         \u001b[43mtime\u001b[49m\u001b[43m.\u001b[49m\u001b[43msleep\u001b[49m\u001b[43m(\u001b[49m\u001b[32;43m0.01\u001b[39;49m\u001b[43m)\u001b[49m\n\u001b[32m   1801\u001b[39m         \u001b[38;5;28;01mcontinue\u001b[39;00m\n\u001b[32m   1803\u001b[39m \u001b[38;5;28;01melif\u001b[39;00m nb_jobs == \u001b[32m0\u001b[39m:\n\u001b[32m   1804\u001b[39m     \u001b[38;5;66;03m# Case unordered: jobs are added to the list of jobs to\u001b[39;00m\n\u001b[32m   1805\u001b[39m     \u001b[38;5;66;03m# retrieve `self._jobs` only once completed or in error, which\u001b[39;00m\n\u001b[32m   (...)\u001b[39m\u001b[32m   1811\u001b[39m     \u001b[38;5;66;03m# timeouts before any other dispatched job has completed and\u001b[39;00m\n\u001b[32m   1812\u001b[39m     \u001b[38;5;66;03m# been added to `self._jobs` to be retrieved.\u001b[39;00m\n",
            "\u001b[31mKeyboardInterrupt\u001b[39m: "
          ]
        }
      ],
      "source": [
        "model_df = pd.read_csv('final_weather_processed.csv')\n",
        "features = [\n",
        "    'humidi', 'cloud', 'pressure', 'cloud_humid','temp_humidity',\n",
        "    'is_rainy_season', 'is_dry_season',\n",
        "    'max_temp', 'min_temp','range_temp',\n",
        "    'rain_1d_ago', 'rain_2d_ago','rain_trend_3d','rain_intensity','wind_angle',     \n",
        "    'wind_x', 'wind_y', 'Longitude', 'Latitude'                       \n",
        "]\n",
        "X =model_df[features]\n",
        "y =model_df['rain']\n",
        "\n",
        "# --- Chia dữ liệu ---\n",
        "X_temp, X_test, y_temp, y_test = train_test_split(X, y, test_size=0.2, random_state=42)\n",
        "X_train, X_val, y_train, y_val = train_test_split(X_temp, y_temp, test_size=0.25, random_state=42)\n",
        "\n",
        "# --- Log-transform target ---\n",
        "y_train_log = np.log1p(y_train)\n",
        "y_val_log = np.log1p(y_val)\n",
        "\n",
        "# --- Hàm đánh giá mô hình ---\n",
        "def evaluate_model(name, model, X_train, y_train_log, X_val, y_val):\n",
        "    start_train = time.time()\n",
        "    model.fit(X_train, y_train_log)\n",
        "    train_time = time.time() - start_train\n",
        "\n",
        "    start_infer = time.time()\n",
        "    y_pred_log = model.predict(X_val)\n",
        "    infer_time = (time.time() - start_infer) / len(X_val)\n",
        "\n",
        "    y_pred = np.expm1(y_pred_log)\n",
        "    rmse = np.sqrt(mean_squared_error(y_val, y_pred))\n",
        "    r2 = r2_score(y_val, y_pred)\n",
        "\n",
        "    return {\n",
        "        'Model': name,\n",
        "        'RMSE': round(rmse, 3),\n",
        "        'R² Score (%)': round(r2 * 100, 2),\n",
        "        'Train Time (s)': round(train_time, 2),\n",
        "        'Inference Time (ms/sample)': round(infer_time * 1000, 4)\n",
        "    }\n",
        "\n",
        "# ================================\n",
        "# 🔶 1. Random Forest\n",
        "# ================================\n",
        "param_dist_rf = {\n",
        "    'n_estimators': [200, 300, 400, 500],\n",
        "    'max_depth': [10, 20, 30, None],\n",
        "    'min_samples_split': [2, 5, 10],\n",
        "    'min_samples_leaf': [1, 2, 4],\n",
        "    'max_features': ['sqrt', 'log2']\n",
        "}\n",
        "search_rf = RandomizedSearchCV(\n",
        "    RandomForestRegressor(random_state=42, n_jobs=-1),\n",
        "    param_distributions=param_dist_rf,\n",
        "    n_iter=20, cv=3, verbose=1, random_state=42,\n",
        "    scoring='neg_root_mean_squared_error', n_jobs=-1\n",
        ")\n",
        "search_rf.fit(X_train, y_train_log)\n",
        "best_rf = search_rf.best_estimator_\n",
        "\n",
        "# ================================\n",
        "# 🔶 2. KNN\n",
        "# ================================\n",
        "param_dist_knn = {\n",
        "    'n_neighbors': [3, 5, 7, 9, 11],\n",
        "    'weights': ['uniform', 'distance'],\n",
        "    'p': [1, 2]  # 1: Manhattan, 2: Euclidean\n",
        "}\n",
        "search_knn = RandomizedSearchCV(\n",
        "    KNeighborsRegressor(),\n",
        "    param_distributions=param_dist_knn,\n",
        "    n_iter=10, cv=3, verbose=1, random_state=42,\n",
        "    scoring='neg_root_mean_squared_error', n_jobs=-1\n",
        ")\n",
        "search_knn.fit(X_train, y_train_log)\n",
        "best_knn = search_knn.best_estimator_\n",
        "\n",
        "# ================================\n",
        "# 🔶 3. XGBoost\n",
        "# ================================\n",
        "param_dist_xgb = {\n",
        "    'n_estimators': [200, 300, 400, 500],\n",
        "    'max_depth': [3, 5, 10, 20],\n",
        "    'learning_rate': [0.01, 0.05, 0.1, 0.2],\n",
        "    'subsample': [0.6, 0.8, 1.0],\n",
        "    'colsample_bytree': [0.6, 0.8, 1.0],\n",
        "    'reg_alpha': [0, 0.1, 1],\n",
        "    'reg_lambda': [1, 1.5, 2]\n",
        "}\n",
        "search_xgb = RandomizedSearchCV(\n",
        "    XGBRegressor(random_state=42, tree_method='hist', n_jobs=-1),\n",
        "    param_distributions=param_dist_xgb,\n",
        "    n_iter=30, cv=3, verbose=1, random_state=42,\n",
        "    scoring='neg_root_mean_squared_error', n_jobs=-1\n",
        ")\n",
        "search_xgb.fit(X_train, y_train_log)\n",
        "best_xgb = search_xgb.best_estimator_\n",
        "\n",
        "# ================================\n",
        "# 🔶 Đánh giá tất cả mô hình\n",
        "# ================================\n",
        "results = []\n",
        "results.append(evaluate_model(\"Random Forest\", best_rf, X_train, y_train_log, X_val, y_val))\n",
        "results.append(evaluate_model(\"KNN\", best_knn, X_train, y_train_log, X_val, y_val))\n",
        "results.append(evaluate_model(\"XGBoost\", best_xgb, X_train, y_train_log, X_val, y_val))\n",
        "\n",
        "# --- In kết quả ---\n",
        "df_results = pd.DataFrame(results)\n",
        "print(df_results.sort_values(by='RMSE'))\n",
        "\n",
        "# --- In tham số tốt nhất nếu cần ---\n",
        "print(\"\\nBest Params:\")\n",
        "print(\"Random Forest:\", search_rf.best_params_)\n",
        "print(\"KNN:\", search_knn.best_params_)\n",
        "print(\"XGBoost:\", search_xgb.best_params_)"
      ]
    },
    {
      "cell_type": "code",
      "execution_count": 57,
      "metadata": {},
      "outputs": [],
      "source": [
        "# df_results = pd.DataFrame(results)\n",
        "# df_sorted = df_results.sort_values(by='RMSE')\n",
        "\n",
        "# # ✅ In ra với định dạng rõ ràng\n",
        "# for idx, row in df_sorted.iterrows():\n",
        "#     print(f\"{row['Model']:<12} | RMSE: {row['RMSE']:.3f} | R²: {row['R² Score (%)']:.2f} %\")\n",
        "\n",
        "# # --- In tham số tốt nhất nếu cần ---\n",
        "# print(\"\\nBest Params:\")\n",
        "# print(\"Random Forest:\", search_rf.best_params_)\n",
        "# print(\"KNN:\", search_knn.best_params_)\n",
        "# print(\"XGBoost:\", search_xgb.best_params_)"
      ]
    },
    {
      "cell_type": "code",
      "execution_count": 58,
      "metadata": {},
      "outputs": [],
      "source": [
        "# n_samples = 20\n",
        "# np.random.seed(42)\n",
        "# indices = np.random.choice(len(y_val), size=n_samples, replace=False)\n",
        "\n",
        "# # --- Giá trị thực tế ---\n",
        "# y_real_sample = y_val.iloc[indices].values\n",
        "# x = np.arange(n_samples)\n",
        "\n",
        "# # ==================================\n",
        "# # 🔹 1. Biểu đồ cho Random Forest\n",
        "# # ==================================\n",
        "# y_pred_rf_log = best_rf.predict(X_val.iloc[indices])\n",
        "# y_pred_rf = np.expm1(y_pred_rf_log)\n",
        "\n",
        "# plt.figure(figsize=(12, 6))\n",
        "# plt.bar(x - 0.2, y_real_sample, width=0.4, label='Thực tế', color='skyblue')\n",
        "# plt.bar(x + 0.2, y_pred_rf, width=0.4, label='RF Dự đoán', color='orange')\n",
        "# plt.xlabel('Mẫu')\n",
        "# plt.ylabel('Lượng mưa (mm)')\n",
        "# plt.title('So sánh lượng mưa thực tế và dự đoán (Validation) - Random Forest')\n",
        "# plt.legend()\n",
        "# plt.grid(axis='y', linestyle='--', alpha=0.6)\n",
        "# plt.tight_layout()\n",
        "# plt.show()\n",
        "\n",
        "# # ==================================\n",
        "# # 🔹 2. Biểu đồ cho KNN\n",
        "# # ==================================\n",
        "# y_pred_knn_log = best_knn.predict(X_val.iloc[indices])\n",
        "# y_pred_knn = np.expm1(y_pred_knn_log)\n",
        "\n",
        "# plt.figure(figsize=(12, 6))\n",
        "# plt.bar(x - 0.2, y_real_sample, width=0.4, label='Thực tế', color='skyblue')\n",
        "# plt.bar(x + 0.2, y_pred_knn, width=0.4, label='KNN Dự đoán', color='green')\n",
        "# plt.xlabel('Mẫu')\n",
        "# plt.ylabel('Lượng mưa (mm)')\n",
        "# plt.title('So sánh lượng mưa thực tế và dự đoán (Validation) - KNN')\n",
        "# plt.legend()\n",
        "# plt.grid(axis='y', linestyle='--', alpha=0.6)\n",
        "# plt.tight_layout()\n",
        "# plt.show()\n",
        "\n",
        "# # ==================================\n",
        "# # 🔹 3. Biểu đồ cho XGBoost\n",
        "# # ==================================\n",
        "# dval_sample = xgb.DMatrix(X_val.iloc[indices].values)\n",
        "# y_pred_xgb_log = xgb_model.predict(dval_sample)\n",
        "# y_pred_xgb = np.expm1(y_pred_xgb_log)\n",
        "\n",
        "# plt.figure(figsize=(12, 6))\n",
        "# plt.bar(x - 0.2, y_real_sample, width=0.4, label='Thực tế', color='skyblue')\n",
        "# plt.bar(x + 0.2, y_pred_xgb, width=0.4, label='XGBoost Dự đoán', color='purple')\n",
        "# plt.xlabel('Mẫu')\n",
        "# plt.ylabel('Lượng mưa (mm)')\n",
        "# plt.title('So sánh lượng mưa thực tế và dự đoán (Validation) - XGBoost')\n",
        "# plt.legend()\n",
        "# plt.grid(axis='y', linestyle='--', alpha=0.6)\n",
        "# plt.tight_layout()\n",
        "# plt.show()\n"
      ]
    },
    {
      "cell_type": "code",
      "execution_count": 59,
      "metadata": {},
      "outputs": [],
      "source": [
        "# importances = best_model.feature_importances_\n",
        "\n",
        "# # Tạo DataFrame để sắp xếp\n",
        "# feature_names = features  # danh sách feature bạn dùng khi train\n",
        "# importance_df = pd.DataFrame({\n",
        "#     'Feature': feature_names,\n",
        "#     'Importance': importances\n",
        "# }).sort_values(by='Importance', ascending=False)\n",
        "\n",
        "# # Vẽ biểu đồ\n",
        "# plt.figure(figsize=(10, 6))\n",
        "# sns.barplot(data=importance_df, x='Importance', y='Feature', palette='viridis')\n",
        "# plt.title('Feature Importances - Random Forest')\n",
        "# plt.xlabel('Mức độ quan trọng')\n",
        "# plt.ylabel('Đặc trưng')\n",
        "# plt.grid(axis='x', linestyle='--', alpha=0.6)\n",
        "# plt.tight_layout()\n",
        "# plt.show()\n"
      ]
    },
    {
      "cell_type": "code",
      "execution_count": 60,
      "metadata": {},
      "outputs": [
        {
          "ename": "SyntaxError",
          "evalue": "invalid syntax. Perhaps you forgot a comma? (1320687399.py, line 50)",
          "output_type": "error",
          "traceback": [
            "  \u001b[36mCell\u001b[39m\u001b[36m \u001b[39m\u001b[32mIn[60]\u001b[39m\u001b[32m, line 50\u001b[39m\n\u001b[31m    \u001b[39m\u001b[31meval_metric='rmse'  y\u001b[39m\n                ^\n\u001b[31mSyntaxError\u001b[39m\u001b[31m:\u001b[39m invalid syntax. Perhaps you forgot a comma?\n"
          ]
        }
      ],
      "source": [
        "import pandas as pd\n",
        "import numpy as np\n",
        "import time\n",
        "import matplotlib.pyplot as plt\n",
        "from sklearn.model_selection import train_test_split\n",
        "from sklearn.metrics import mean_squared_error, r2_score, accuracy_score\n",
        "from xgboost import XGBRegressor\n",
        "\n",
        "# =========================\n",
        "# 1. Đọc dữ liệu & chuẩn bị\n",
        "# =========================\n",
        "model_XGB = pd.read_csv('final_weather_processed.csv')\n",
        "\n",
        "features = [\n",
        "    'humidi', 'cloud', 'pressure', 'cloud_humid',\n",
        "    'is_rainy_season', 'is_dry_season',\n",
        "    'max_temp', 'min_temp','range_temp','wind_angle',\n",
        "    'rain_1d_ago', 'rain_2d_ago','rain_trend_3d','rain_intensity',\n",
        "    'wind_x', 'wind_y', 'Longitude', 'Latitude'\n",
        "]\n",
        "\n",
        "X = model_XGB[features]\n",
        "y = model_XGB['rain']\n",
        "\n",
        "# =========================\n",
        "# 2. Chia train / val / test (60/20/20)\n",
        "# =========================\n",
        "X_temp, X_test, y_temp, y_test = train_test_split(X, y, test_size=0.2, random_state=42)\n",
        "X_train, X_val, y_train, y_val = train_test_split(X_temp, y_temp, test_size=0.25, random_state=42)\n",
        "\n",
        "# Log-transform target\n",
        "y_train_log = np.log1p(y_train)\n",
        "y_val_log = np.log1p(y_val)\n",
        "\n",
        "# =========================\n",
        "# 3. Huấn luyện mô hình XGBoost với eval_set\n",
        "# =========================\n",
        "xgb_model = XGBRegressor(\n",
        "    n_estimators=300,\n",
        "    max_depth=5,\n",
        "    learning_rate=0.1,\n",
        "    subsample=1.0,\n",
        "    colsample_bytree=1.0,\n",
        "    reg_alpha=0.1,\n",
        "    reg_lambda=1.5,\n",
        "    objective='reg:squarederror',\n",
        "    random_state=42,\n",
        "    tree_method='hist',\n",
        "    n_jobs=-1,\n",
        "    eval_metric='rmse'  y\n",
        ")\n",
        "\n",
        "\n",
        "xgb_model.fit(\n",
        "    X_train, y_train_log,\n",
        "    eval_set=[(X_train, y_train_log), (X_val, y_val_log)],\n",
        "    verbose=False\n",
        ")\n",
        "train_time = time.time() - start_train\n",
        "\n",
        "# =========================\n",
        "# 4. Vẽ biểu đồ loss\n",
        "# =========================\n",
        "results = xgb_model.evals_result_\n",
        "epochs = len(results['validation_0']['rmse'])\n",
        "x_axis = range(epochs)\n",
        "\n",
        "plt.figure(figsize=(10, 6))\n",
        "plt.plot(x_axis, results['validation_0']['rmse'], label='Train RMSE')\n",
        "plt.plot(x_axis, results['validation_1']['rmse'], label='Validation RMSE')\n",
        "plt.xlabel('Boosting Round')\n",
        "plt.ylabel('RMSE (log-transformed)')\n",
        "plt.title('Biểu đồ Loss (RMSE) theo từng vòng Boosting - XGBoost')\n",
        "plt.legend()\n",
        "plt.grid(True, linestyle='--', alpha=0.6)\n",
        "plt.tight_layout()\n",
        "plt.show()\n",
        "\n",
        "# =========================\n",
        "# 5. Đánh giá mô hình\n",
        "# =========================\n",
        "start_infer = time.time()\n",
        "y_val_pred_log = xgb_model.predict(X_val)\n",
        "infer_time = (time.time() - start_infer) / len(X_val)\n",
        "\n",
        "y_val_pred = np.expm1(y_val_pred_log)\n",
        "\n",
        "rmse = np.sqrt(mean_squared_error(y_val, y_val_pred))\n",
        "r2 = r2_score(y_val, y_val_pred)\n",
        "\n",
        "# Accuracy phân loại (mưa hay không mưa, ngưỡng 1mm)\n",
        "y_val_true_class = (y_val >= 1).astype(int)\n",
        "y_val_pred_class = (y_val_pred >= 1).astype(int)\n",
        "accuracy = accuracy_score(y_val_true_class, y_val_pred_class)\n",
        "\n",
        "# =========================\n",
        "# 6. In kết quả\n",
        "# =========================\n",
        "print(\"✅ Kết quả mô hình XGBoost:\")\n",
        "print(f\"RMSE: {rmse:.3f}\")\n",
        "print(f\"R² Score: {r2 * 100:.2f}%\")\n",
        "print(f\"Accuracy (mưa/không mưa): {accuracy * 100:.2f}%\")\n",
        "print(f\"Train time: {train_time:.2f} s\")\n",
        "print(f\"Inference time: {infer_time * 1000:.4f} ms/sample\")\n"
      ]
    },
    {
      "cell_type": "code",
      "execution_count": null,
      "metadata": {},
      "outputs": [],
      "source": [
        "# percent_error = np.abs(y_real_sample - y_pred_sample) / (y_real_sample + 1e-5) * 100\n",
        "# percent_accuracy = 100 - percent_error\n",
        "\n",
        "# # --- In ra bảng phần trăm dự đoán ---\n",
        "# result_df = pd.DataFrame({\n",
        "#     'Actual (mm)': y_real_sample,\n",
        "#     'Predicted (mm)': y_pred_sample,\n",
        "#     'Accuracy (%)': np.round(percent_accuracy, 2)\n",
        "# })\n",
        "\n",
        "# print(\"\\n Prediction Accuracy per Sample:\")\n",
        "# print(result_df.to_string(index=False))"
      ]
    },
    {
      "cell_type": "code",
      "execution_count": null,
      "metadata": {},
      "outputs": [],
      "source": [
        "# from sklearn.metrics import classification_report\n",
        "\n",
        "# # --- Convert to binary labels: rain or no rain ---\n",
        "# threshold = 0.1  # or adjust as needed\n",
        "# y_true_class = (y_val > threshold).astype(int)\n",
        "# y_pred_class = (y_pred > threshold).astype(int)\n",
        "\n",
        "# # --- Classification report ---\n",
        "# report = classification_report(y_true_class, y_pred_class, target_names=['No Rain', 'Rain'])\n",
        "# print(\"Classification Metrics (Rain vs No Rain):\\n\")\n",
        "# print(report)\n"
      ]
    },
    {
      "cell_type": "code",
      "execution_count": null,
      "metadata": {},
      "outputs": [],
      "source": [
        "# y_pred = np.expm1(y_pred_log)  # Khôi phục giá trị thật\n",
        "\n",
        "# # Tính RMSE và R²\n",
        "# rmse = np.sqrt(mean_squared_error(y_val, y_pred))\n",
        "# r2 = r2_score(y_val, y_pred)\n",
        "\n",
        "# print(f\"📊RMSE: {rmse:.3f} mm\")\n",
        "# print(f\"📈R² Score: {r2 * 100:.2f} %\")"
      ]
    },
    {
      "cell_type": "code",
      "execution_count": null,
      "metadata": {},
      "outputs": [
        {
          "name": "stdout",
          "output_type": "stream",
          "text": [
            "\n",
            "🔍 Tuning KNN...\n"
          ]
        },
        {
          "name": "stderr",
          "output_type": "stream",
          "text": [
            "c:\\Users\\HNS\\AppData\\Local\\Programs\\Python\\Python313\\Lib\\site-packages\\sklearn\\model_selection\\_search.py:317: UserWarning: The total space of parameters 4 is smaller than n_iter=5. Running 4 iterations. For exhaustive searches, use GridSearchCV.\n",
            "  warnings.warn(\n"
          ]
        },
        {
          "name": "stdout",
          "output_type": "stream",
          "text": [
            "✅ Best params: {'n_neighbors': 9}\n",
            "📊 Validation Accuracy: 84.80%\n",
            "🧪 Test Accuracy: 84.00%\n",
            "\n",
            "🔍 Tuning Random Forest...\n",
            "✅ Best params: {'n_estimators': 200, 'max_depth': None}\n",
            "📊 Validation Accuracy: 91.80%\n",
            "🧪 Test Accuracy: 91.00%\n",
            "\n",
            "🔍 Tuning XGBoost...\n"
          ]
        },
        {
          "name": "stderr",
          "output_type": "stream",
          "text": [
            "c:\\Users\\HNS\\AppData\\Local\\Programs\\Python\\Python313\\Lib\\site-packages\\joblib\\externals\\loky\\process_executor.py:782: UserWarning: A worker stopped while some jobs were given to the executor. This can be caused by a too short worker timeout or by a memory leak.\n",
            "  warnings.warn(\n",
            "c:\\Users\\HNS\\AppData\\Local\\Programs\\Python\\Python313\\Lib\\site-packages\\xgboost\\training.py:183: UserWarning: [15:50:28] WARNING: C:\\actions-runner\\_work\\xgboost\\xgboost\\src\\learner.cc:738: \n",
            "Parameters: { \"use_label_encoder\" } are not used.\n",
            "\n",
            "  bst.update(dtrain, iteration=i, fobj=obj)\n"
          ]
        },
        {
          "name": "stdout",
          "output_type": "stream",
          "text": [
            "✅ Best params: {'n_estimators': 200, 'max_depth': 7, 'learning_rate': 0.05}\n",
            "📊 Validation Accuracy: 92.50%\n",
            "🧪 Test Accuracy: 90.30%\n"
          ]
        }
      ],
      "source": [
        "# import pandas as pd\n",
        "# import numpy as np\n",
        "# from sklearn.model_selection import train_test_split, RandomizedSearchCV\n",
        "# from sklearn.metrics import accuracy_score\n",
        "# from sklearn.ensemble import RandomForestClassifier\n",
        "# from sklearn.neighbors import KNeighborsClassifier\n",
        "# from xgboost import XGBClassifier\n",
        "\n",
        "# # Dữ liệu mẫu (thay bằng dữ liệu thật nếu có)\n",
        "# from sklearn.datasets import make_classification\n",
        "# X, y = make_classification(n_samples=5000, n_features=20, n_classes=2,\n",
        "#                            weights=[0.7, 0.3], random_state=42)\n",
        "\n",
        "# # --- Chia dữ liệu 60/20/20\n",
        "# X_temp, X_test, y_temp, y_test = train_test_split(X, y, test_size=0.2, stratify=y, random_state=42)\n",
        "# X_train, X_val, y_train, y_val = train_test_split(X_temp, y_temp, test_size=0.25, stratify=y_temp, random_state=42)\n",
        "\n",
        "# # --- Các mô hình và tham số\n",
        "# param_grids = {\n",
        "#     'KNN': {\n",
        "#         'n_neighbors': [3, 5, 7, 9]\n",
        "#     },\n",
        "#     'Random Forest': {\n",
        "#         'n_estimators': [100, 200],\n",
        "#         'max_depth': [5, 10, None]\n",
        "#     },\n",
        "#     'XGBoost': {\n",
        "#         'n_estimators': [100, 200],\n",
        "#         'max_depth': [3, 5, 7],\n",
        "#         'learning_rate': [0.05, 0.1, 0.2]\n",
        "#     }\n",
        "# }\n",
        "\n",
        "# models = {\n",
        "#     'KNN': KNeighborsClassifier(),\n",
        "#     'Random Forest': RandomForestClassifier(random_state=42),\n",
        "#     'XGBoost': XGBClassifier(use_label_encoder=False, eval_metric='logloss', random_state=42)\n",
        "# }\n",
        "\n",
        "# # --- Huấn luyện & đánh giá\n",
        "# for name, model in models.items():\n",
        "#     print(f\"\\n🔍 Tuning {name}...\")\n",
        "#     search = RandomizedSearchCV(model, param_grids[name], n_iter=5, cv=3, scoring='accuracy', random_state=42, n_jobs=-1)\n",
        "#     search.fit(X_train, y_train)\n",
        "    \n",
        "#     best_model = search.best_estimator_\n",
        "#     val_acc = accuracy_score(y_val, best_model.predict(X_val))\n",
        "#     test_acc = accuracy_score(y_test, best_model.predict(X_test))\n",
        "    \n",
        "#     print(f\"✅ Best params: {search.best_params_}\")\n",
        "#     print(f\"📊 Validation Accuracy: {val_acc * 100:.2f}%\")\n",
        "#     print(f\"🧪 Test Accuracy: {test_acc * 100:.2f}%\")\n"
      ]
    },
    {
      "cell_type": "code",
      "execution_count": null,
      "metadata": {},
      "outputs": [],
      "source": [
        "# xgb_model = search.best_estimator_\n",
        "# import joblib\n",
        "# import os\n",
        "# os.makedirs('models', exist_ok=True)  # Create folder if it doesn't exist\n"
      ]
    },
    {
      "cell_type": "code",
      "execution_count": null,
      "metadata": {},
      "outputs": [],
      "source": [
        "# joblib.dump(xgb_model, 'models/xgb_model.pkl')  # Save it\n"
      ]
    },
    {
      "cell_type": "code",
      "execution_count": null,
      "metadata": {},
      "outputs": [
        {
          "name": "stdout",
          "output_type": "stream",
          "text": [
            "✅ KNN Accuracy: 93.40%\n",
            "✅ Random Forest Accuracy: 92.50%\n",
            "✅ XGBoost Accuracy: 94.90%\n"
          ]
        },
        {
          "name": "stderr",
          "output_type": "stream",
          "text": [
            "c:\\Users\\HNS\\AppData\\Local\\Programs\\Python\\Python313\\Lib\\site-packages\\xgboost\\training.py:183: UserWarning: [15:47:14] WARNING: C:\\actions-runner\\_work\\xgboost\\xgboost\\src\\learner.cc:738: \n",
            "Parameters: { \"use_label_encoder\" } are not used.\n",
            "\n",
            "  bst.update(dtrain, iteration=i, fobj=obj)\n"
          ]
        }
      ],
      "source": [
        "import pandas as pd\n",
        "import numpy as np\n",
        "from sklearn.model_selection import train_test_split\n",
        "from sklearn.metrics import accuracy_score\n",
        "from sklearn.ensemble import RandomForestClassifier\n",
        "from sklearn.neighbors import KNeighborsClassifier\n",
        "from xgboost import XGBClassifier\n",
        "from sklearn.datasets import make_classification\n",
        "X, y = make_classification(n_samples=5000, n_features=20, n_informative=10, \n",
        "                           n_redundant=5, n_classes=2, weights=[0.7, 0.3], random_state=42)\n",
        "\n",
        "# Chia dữ liệu\n",
        "X_train, X_test, y_train, y_test = train_test_split(X, y, test_size=0.2, stratify=y, random_state=42)\n",
        "\n",
        "# Khởi tạo mô hình\n",
        "models = {\n",
        "    \"KNN\": KNeighborsClassifier(n_neighbors=5),\n",
        "    \"Random Forest\": RandomForestClassifier(n_estimators=100, random_state=42),\n",
        "    \"XGBoost\": XGBClassifier(use_label_encoder=False, eval_metric='logloss', random_state=42)\n",
        "}\n",
        "\n",
        "# Huấn luyện và in Accuracy\n",
        "for name, model in models.items():\n",
        "    model.fit(X_train, y_train)\n",
        "    y_pred = model.predict(X_test)\n",
        "    acc = accuracy_score(y_test, y_pred)\n",
        "    print(f\"✅ {name} Accuracy: {acc * 100:.2f}%\")"
      ]
    },
    {
      "cell_type": "code",
      "execution_count": null,
      "metadata": {},
      "outputs": [],
      "source": [
        "# mae = mean_absolute_error(y_val, y_pred)\n",
        "\n",
        "# print(\" Model Evaluation on Validation Set:\")\n",
        "# print(f\"   RMSE: {round(rmse, 3)}\")\n",
        "# print(f\"   MAE: {round(mae, 3)}\")\n",
        "# print(f\"   R² Score: {round(r2 * 100, 2)} %\")"
      ]
    },
    {
      "cell_type": "code",
      "execution_count": null,
      "metadata": {},
      "outputs": [],
      "source": [
        "# joblib.dump(best_model, 'models/humidity_model.pkl')\n",
        "# print(\" Model saved to: models/humidity_model.pkl\")"
      ]
    }
  ],
  "metadata": {
    "colab": {
      "collapsed_sections": [
        "I4BrtZE3nY7I",
        "InHPnLUb9hgd",
        "vPOGb_KRQ7nd",
        "-3qXInPF8WYe",
        "nTTDkqjjluh1",
        "jdItK42U51ID"
      ],
      "provenance": []
    },
    "kernelspec": {
      "display_name": "Python 3",
      "name": "python3"
    },
    "language_info": {
      "codemirror_mode": {
        "name": "ipython",
        "version": 3
      },
      "file_extension": ".py",
      "mimetype": "text/x-python",
      "name": "python",
      "nbconvert_exporter": "python",
      "pygments_lexer": "ipython3",
      "version": "3.13.5"
    }
  },
  "nbformat": 4,
  "nbformat_minor": 0
}
